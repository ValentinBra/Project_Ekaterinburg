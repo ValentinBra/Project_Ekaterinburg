{
  "nbformat": 4,
  "nbformat_minor": 0,
  "metadata": {
    "colab": {
      "provenance": []
    },
    "kernelspec": {
      "name": "python3",
      "display_name": "Python 3"
    },
    "language_info": {
      "name": "python"
    }
  },
  "cells": [
    {
      "cell_type": "markdown",
      "source": [
        "#Установка CityGeoTools"
      ],
      "metadata": {
        "id": "xeqYqmN91NDA"
      }
    },
    {
      "cell_type": "code",
      "execution_count": 1,
      "metadata": {
        "colab": {
          "base_uri": "https://localhost:8080/"
        },
        "id": "d2SDk3gp0nq5",
        "outputId": "0b526cc5-a547-4cad-a31c-dbbe6e5739ec"
      },
      "outputs": [
        {
          "output_type": "stream",
          "name": "stdout",
          "text": [
            "Cloning into 'CityGeoTools'...\n",
            "remote: Enumerating objects: 2762, done.\u001b[K\n",
            "remote: Counting objects: 100% (1017/1017), done.\u001b[K\n",
            "remote: Compressing objects: 100% (383/383), done.\u001b[K\n",
            "remote: Total 2762 (delta 682), reused 839 (delta 630), pack-reused 1745\u001b[K\n",
            "Receiving objects: 100% (2762/2762), 114.16 MiB | 14.49 MiB/s, done.\n",
            "Resolving deltas: 100% (1907/1907), done.\n"
          ]
        }
      ],
      "source": [
        "!git clone https://github.com/iduprojects/CityGeoTools"
      ]
    },
    {
      "cell_type": "code",
      "source": [
        "!pip install -r /content/CityGeoTools/metrics/requirements.txt"
      ],
      "metadata": {
        "colab": {
          "base_uri": "https://localhost:8080/"
        },
        "id": "PbT1XIP-1JGL",
        "outputId": "f10a5bcf-e90e-45bd-c8a8-aa6a5dd26ec2"
      },
      "execution_count": 2,
      "outputs": [
        {
          "output_type": "stream",
          "name": "stdout",
          "text": [
            "Collecting coloredlogs==15.0.1 (from -r /content/CityGeoTools/metrics/requirements.txt (line 1))\n",
            "  Downloading coloredlogs-15.0.1-py2.py3-none-any.whl (46 kB)\n",
            "\u001b[2K     \u001b[90m━━━━━━━━━━━━━━━━━━━━━━━━━━━━━━━━━━━━━━━━\u001b[0m \u001b[32m46.0/46.0 kB\u001b[0m \u001b[31m855.3 kB/s\u001b[0m eta \u001b[36m0:00:00\u001b[0m\n",
            "\u001b[?25hCollecting fastapi==0.87.0 (from -r /content/CityGeoTools/metrics/requirements.txt (line 2))\n",
            "  Downloading fastapi-0.87.0-py3-none-any.whl (55 kB)\n",
            "\u001b[2K     \u001b[90m━━━━━━━━━━━━━━━━━━━━━━━━━━━━━━━━━━━━━━━━\u001b[0m \u001b[32m55.5/55.5 kB\u001b[0m \u001b[31m3.2 MB/s\u001b[0m eta \u001b[36m0:00:00\u001b[0m\n",
            "\u001b[?25hCollecting scikit-learn==1.1.3 (from -r /content/CityGeoTools/metrics/requirements.txt (line 3))\n",
            "  Downloading scikit_learn-1.1.3-cp310-cp310-manylinux_2_17_x86_64.manylinux2014_x86_64.whl (30.5 MB)\n",
            "\u001b[2K     \u001b[90m━━━━━━━━━━━━━━━━━━━━━━━━━━━━━━━━━━━━━━━━\u001b[0m \u001b[32m30.5/30.5 MB\u001b[0m \u001b[31m32.9 MB/s\u001b[0m eta \u001b[36m0:00:00\u001b[0m\n",
            "\u001b[?25hCollecting SQLAlchemy==1.4.25 (from -r /content/CityGeoTools/metrics/requirements.txt (line 4))\n",
            "  Downloading SQLAlchemy-1.4.25.tar.gz (7.8 MB)\n",
            "\u001b[2K     \u001b[90m━━━━━━━━━━━━━━━━━━━━━━━━━━━━━━━━━━━━━━━━\u001b[0m \u001b[32m7.8/7.8 MB\u001b[0m \u001b[31m40.8 MB/s\u001b[0m eta \u001b[36m0:00:00\u001b[0m\n",
            "\u001b[?25h  Preparing metadata (setup.py) ... \u001b[?25l\u001b[?25hdone\n",
            "Collecting geojson_pydantic==0.3.3 (from -r /content/CityGeoTools/metrics/requirements.txt (line 5))\n",
            "  Downloading geojson-pydantic-0.3.3.tar.gz (8.6 kB)\n",
            "  Preparing metadata (setup.py) ... \u001b[?25l\u001b[?25hdone\n",
            "Collecting geopandas==0.12.1 (from -r /content/CityGeoTools/metrics/requirements.txt (line 6))\n",
            "  Downloading geopandas-0.12.1-py3-none-any.whl (1.1 MB)\n",
            "\u001b[2K     \u001b[90m━━━━━━━━━━━━━━━━━━━━━━━━━━━━━━━━━━━━━━━━\u001b[0m \u001b[32m1.1/1.1 MB\u001b[0m \u001b[31m51.3 MB/s\u001b[0m eta \u001b[36m0:00:00\u001b[0m\n",
            "\u001b[?25hCollecting joblib==1.1.0 (from -r /content/CityGeoTools/metrics/requirements.txt (line 7))\n",
            "  Downloading joblib-1.1.0-py2.py3-none-any.whl (306 kB)\n",
            "\u001b[2K     \u001b[90m━━━━━━━━━━━━━━━━━━━━━━━━━━━━━━━━━━━━━━━━\u001b[0m \u001b[32m307.0/307.0 kB\u001b[0m \u001b[31m28.6 MB/s\u001b[0m eta \u001b[36m0:00:00\u001b[0m\n",
            "\u001b[?25hCollecting jsonschema==3.2.0 (from -r /content/CityGeoTools/metrics/requirements.txt (line 8))\n",
            "  Downloading jsonschema-3.2.0-py2.py3-none-any.whl (56 kB)\n",
            "\u001b[2K     \u001b[90m━━━━━━━━━━━━━━━━━━━━━━━━━━━━━━━━━━━━━━━━\u001b[0m \u001b[32m56.3/56.3 kB\u001b[0m \u001b[31m7.4 MB/s\u001b[0m eta \u001b[36m0:00:00\u001b[0m\n",
            "\u001b[?25hCollecting matplotlib==3.6.1 (from -r /content/CityGeoTools/metrics/requirements.txt (line 9))\n",
            "  Downloading matplotlib-3.6.1-cp310-cp310-manylinux_2_17_x86_64.manylinux2014_x86_64.whl (11.8 MB)\n",
            "\u001b[2K     \u001b[90m━━━━━━━━━━━━━━━━━━━━━━━━━━━━━━━━━━━━━━━━\u001b[0m \u001b[32m11.8/11.8 MB\u001b[0m \u001b[31m24.1 MB/s\u001b[0m eta \u001b[36m0:00:00\u001b[0m\n",
            "\u001b[?25hCollecting momepy==0.5.3 (from -r /content/CityGeoTools/metrics/requirements.txt (line 10))\n",
            "  Downloading momepy-0.5.3-py3-none-any.whl (243 kB)\n",
            "\u001b[2K     \u001b[90m━━━━━━━━━━━━━━━━━━━━━━━━━━━━━━━━━━━━━━━━\u001b[0m \u001b[32m243.0/243.0 kB\u001b[0m \u001b[31m25.2 MB/s\u001b[0m eta \u001b[36m0:00:00\u001b[0m\n",
            "\u001b[?25hCollecting networkit==10.0 (from -r /content/CityGeoTools/metrics/requirements.txt (line 11))\n",
            "  Downloading networkit-10.0-cp310-cp310-manylinux_2_12_x86_64.manylinux2010_x86_64.whl (9.8 MB)\n",
            "\u001b[2K     \u001b[90m━━━━━━━━━━━━━━━━━━━━━━━━━━━━━━━━━━━━━━━━\u001b[0m \u001b[32m9.8/9.8 MB\u001b[0m \u001b[31m40.2 MB/s\u001b[0m eta \u001b[36m0:00:00\u001b[0m\n",
            "\u001b[?25hCollecting networkx==2.8.7 (from -r /content/CityGeoTools/metrics/requirements.txt (line 12))\n",
            "  Downloading networkx-2.8.7-py3-none-any.whl (2.0 MB)\n",
            "\u001b[2K     \u001b[90m━━━━━━━━━━━━━━━━━━━━━━━━━━━━━━━━━━━━━━━━\u001b[0m \u001b[32m2.0/2.0 MB\u001b[0m \u001b[31m81.8 MB/s\u001b[0m eta \u001b[36m0:00:00\u001b[0m\n",
            "\u001b[?25hCollecting numpy==1.22.4 (from -r /content/CityGeoTools/metrics/requirements.txt (line 13))\n",
            "  Downloading numpy-1.22.4-cp310-cp310-manylinux_2_17_x86_64.manylinux2014_x86_64.whl (16.8 MB)\n",
            "\u001b[2K     \u001b[90m━━━━━━━━━━━━━━━━━━━━━━━━━━━━━━━━━━━━━━━━\u001b[0m \u001b[32m16.8/16.8 MB\u001b[0m \u001b[31m52.0 MB/s\u001b[0m eta \u001b[36m0:00:00\u001b[0m\n",
            "\u001b[?25hCollecting osm2geojson==0.2.0 (from -r /content/CityGeoTools/metrics/requirements.txt (line 14))\n",
            "  Downloading osm2geojson-0.2.0.tar.gz (13 kB)\n",
            "  Preparing metadata (setup.py) ... \u001b[?25l\u001b[?25hdone\n",
            "Collecting osmnx==1.2.2 (from -r /content/CityGeoTools/metrics/requirements.txt (line 15))\n",
            "  Downloading osmnx-1.2.2-py2.py3-none-any.whl (92 kB)\n",
            "\u001b[2K     \u001b[90m━━━━━━━━━━━━━━━━━━━━━━━━━━━━━━━━━━━━━━━━\u001b[0m \u001b[32m92.5/92.5 kB\u001b[0m \u001b[31m12.0 MB/s\u001b[0m eta \u001b[36m0:00:00\u001b[0m\n",
            "\u001b[?25hCollecting pandas==1.5.1 (from -r /content/CityGeoTools/metrics/requirements.txt (line 16))\n",
            "  Downloading pandas-1.5.1-cp310-cp310-manylinux_2_17_x86_64.manylinux2014_x86_64.whl (12.1 MB)\n",
            "\u001b[2K     \u001b[90m━━━━━━━━━━━━━━━━━━━━━━━━━━━━━━━━━━━━━━━━\u001b[0m \u001b[32m12.1/12.1 MB\u001b[0m \u001b[31m58.3 MB/s\u001b[0m eta \u001b[36m0:00:00\u001b[0m\n",
            "\u001b[?25hCollecting pca==2.0.5 (from -r /content/CityGeoTools/metrics/requirements.txt (line 17))\n",
            "  Downloading pca-2.0.5-py3-none-any.whl (35 kB)\n",
            "Collecting PuLP==2.6.0 (from -r /content/CityGeoTools/metrics/requirements.txt (line 18))\n",
            "  Downloading PuLP-2.6.0-py3-none-any.whl (14.2 MB)\n",
            "\u001b[2K     \u001b[90m━━━━━━━━━━━━━━━━━━━━━━━━━━━━━━━━━━━━━━━━\u001b[0m \u001b[32m14.2/14.2 MB\u001b[0m \u001b[31m52.1 MB/s\u001b[0m eta \u001b[36m0:00:00\u001b[0m\n",
            "\u001b[?25hCollecting pydantic==1.9.1 (from -r /content/CityGeoTools/metrics/requirements.txt (line 19))\n",
            "  Downloading pydantic-1.9.1-cp310-cp310-manylinux_2_17_x86_64.manylinux2014_x86_64.whl (12.0 MB)\n",
            "\u001b[2K     \u001b[90m━━━━━━━━━━━━━━━━━━━━━━━━━━━━━━━━━━━━━━━━\u001b[0m \u001b[32m12.0/12.0 MB\u001b[0m \u001b[31m21.5 MB/s\u001b[0m eta \u001b[36m0:00:00\u001b[0m\n",
            "\u001b[?25hCollecting pyproj==3.4.0 (from -r /content/CityGeoTools/metrics/requirements.txt (line 20))\n",
            "  Downloading pyproj-3.4.0-cp310-cp310-manylinux_2_17_x86_64.manylinux2014_x86_64.whl (7.7 MB)\n",
            "\u001b[2K     \u001b[90m━━━━━━━━━━━━━━━━━━━━━━━━━━━━━━━━━━━━━━━━\u001b[0m \u001b[32m7.7/7.7 MB\u001b[0m \u001b[31m64.8 MB/s\u001b[0m eta \u001b[36m0:00:00\u001b[0m\n",
            "\u001b[?25hCollecting pytest==7.1.1 (from -r /content/CityGeoTools/metrics/requirements.txt (line 21))\n",
            "  Downloading pytest-7.1.1-py3-none-any.whl (297 kB)\n",
            "\u001b[2K     \u001b[90m━━━━━━━━━━━━━━━━━━━━━━━━━━━━━━━━━━━━━━━━\u001b[0m \u001b[32m297.0/297.0 kB\u001b[0m \u001b[31m33.9 MB/s\u001b[0m eta \u001b[36m0:00:00\u001b[0m\n",
            "\u001b[?25hCollecting psycopg2==2.9.3 (from -r /content/CityGeoTools/metrics/requirements.txt (line 22))\n",
            "  Downloading psycopg2-2.9.3.tar.gz (380 kB)\n",
            "\u001b[2K     \u001b[90m━━━━━━━━━━━━━━━━━━━━━━━━━━━━━━━━━━━━━━━━\u001b[0m \u001b[32m380.6/380.6 kB\u001b[0m \u001b[31m38.3 MB/s\u001b[0m eta \u001b[36m0:00:00\u001b[0m\n",
            "\u001b[?25h  Preparing metadata (setup.py) ... \u001b[?25l\u001b[?25hdone\n",
            "Collecting requests==2.28.1 (from -r /content/CityGeoTools/metrics/requirements.txt (line 23))\n",
            "  Downloading requests-2.28.1-py3-none-any.whl (62 kB)\n",
            "\u001b[2K     \u001b[90m━━━━━━━━━━━━━━━━━━━━━━━━━━━━━━━━━━━━━━━━\u001b[0m \u001b[32m62.8/62.8 kB\u001b[0m \u001b[31m7.7 MB/s\u001b[0m eta \u001b[36m0:00:00\u001b[0m\n",
            "\u001b[?25hCollecting rpyc==5.1.0 (from -r /content/CityGeoTools/metrics/requirements.txt (line 24))\n",
            "  Downloading rpyc-5.1.0-py3-none-any.whl (69 kB)\n",
            "\u001b[2K     \u001b[90m━━━━━━━━━━━━━━━━━━━━━━━━━━━━━━━━━━━━━━━━\u001b[0m \u001b[32m69.1/69.1 kB\u001b[0m \u001b[31m9.9 MB/s\u001b[0m eta \u001b[36m0:00:00\u001b[0m\n",
            "\u001b[?25hCollecting Rtree==1.0.1 (from -r /content/CityGeoTools/metrics/requirements.txt (line 25))\n",
            "  Downloading Rtree-1.0.1-cp310-cp310-manylinux_2_17_x86_64.manylinux2014_x86_64.whl (1.0 MB)\n",
            "\u001b[2K     \u001b[90m━━━━━━━━━━━━━━━━━━━━━━━━━━━━━━━━━━━━━━━━\u001b[0m \u001b[32m1.0/1.0 MB\u001b[0m \u001b[31m51.1 MB/s\u001b[0m eta \u001b[36m0:00:00\u001b[0m\n",
            "\u001b[?25hCollecting scipy==1.5.4 (from -r /content/CityGeoTools/metrics/requirements.txt (line 26))\n",
            "  Downloading scipy-1.5.4.tar.gz (25.2 MB)\n",
            "\u001b[2K     \u001b[90m━━━━━━━━━━━━━━━━━━━━━━━━━━━━━━━━━━━━━━━━\u001b[0m \u001b[32m25.2/25.2 MB\u001b[0m \u001b[31m34.2 MB/s\u001b[0m eta \u001b[36m0:00:00\u001b[0m\n",
            "\u001b[?25h  \u001b[1;31merror\u001b[0m: \u001b[1msubprocess-exited-with-error\u001b[0m\n",
            "  \n",
            "  \u001b[31m×\u001b[0m \u001b[32mpip subprocess to install build dependencies\u001b[0m did not run successfully.\n",
            "  \u001b[31m│\u001b[0m exit code: \u001b[1;36m1\u001b[0m\n",
            "  \u001b[31m╰─>\u001b[0m See above for output.\n",
            "  \n",
            "  \u001b[1;35mnote\u001b[0m: This error originates from a subprocess, and is likely not a problem with pip.\n",
            "  Installing build dependencies ... \u001b[?25l\u001b[?25herror\n",
            "\u001b[1;31merror\u001b[0m: \u001b[1msubprocess-exited-with-error\u001b[0m\n",
            "\n",
            "\u001b[31m×\u001b[0m \u001b[32mpip subprocess to install build dependencies\u001b[0m did not run successfully.\n",
            "\u001b[31m│\u001b[0m exit code: \u001b[1;36m1\u001b[0m\n",
            "\u001b[31m╰─>\u001b[0m See above for output.\n",
            "\n",
            "\u001b[1;35mnote\u001b[0m: This error originates from a subprocess, and is likely not a problem with pip.\n"
          ]
        }
      ]
    },
    {
      "cell_type": "code",
      "source": [
        "!pip install scipy\n",
        "!pip install rpyc\n",
        "!pip install networkit\n",
        "!pip install pca"
      ],
      "metadata": {
        "colab": {
          "base_uri": "https://localhost:8080/"
        },
        "id": "Z7FMIkoT1L0M",
        "outputId": "02051036-c98b-4a5c-f7f1-7dcb4632e1fe"
      },
      "execution_count": 3,
      "outputs": [
        {
          "output_type": "stream",
          "name": "stdout",
          "text": [
            "Requirement already satisfied: scipy in /usr/local/lib/python3.10/dist-packages (1.11.4)\n",
            "Requirement already satisfied: numpy<1.28.0,>=1.21.6 in /usr/local/lib/python3.10/dist-packages (from scipy) (1.23.5)\n",
            "Collecting rpyc\n",
            "  Downloading rpyc-5.3.1-py3-none-any.whl (74 kB)\n",
            "\u001b[2K     \u001b[90m━━━━━━━━━━━━━━━━━━━━━━━━━━━━━━━━━━━━━━━━\u001b[0m \u001b[32m74.0/74.0 kB\u001b[0m \u001b[31m1.0 MB/s\u001b[0m eta \u001b[36m0:00:00\u001b[0m\n",
            "\u001b[?25hCollecting plumbum (from rpyc)\n",
            "  Downloading plumbum-1.8.2-py3-none-any.whl (127 kB)\n",
            "\u001b[2K     \u001b[90m━━━━━━━━━━━━━━━━━━━━━━━━━━━━━━━━━━━━━━━━\u001b[0m \u001b[32m127.0/127.0 kB\u001b[0m \u001b[31m3.1 MB/s\u001b[0m eta \u001b[36m0:00:00\u001b[0m\n",
            "\u001b[?25hInstalling collected packages: plumbum, rpyc\n",
            "Successfully installed plumbum-1.8.2 rpyc-5.3.1\n",
            "Collecting networkit\n",
            "  Downloading networkit-10.1-cp310-cp310-manylinux_2_12_x86_64.manylinux2010_x86_64.whl (9.8 MB)\n",
            "\u001b[2K     \u001b[90m━━━━━━━━━━━━━━━━━━━━━━━━━━━━━━━━━━━━━━━━\u001b[0m \u001b[32m9.8/9.8 MB\u001b[0m \u001b[31m1.5 MB/s\u001b[0m eta \u001b[36m0:00:00\u001b[0m\n",
            "\u001b[?25hRequirement already satisfied: scipy in /usr/local/lib/python3.10/dist-packages (from networkit) (1.11.4)\n",
            "Requirement already satisfied: numpy in /usr/local/lib/python3.10/dist-packages (from networkit) (1.23.5)\n",
            "Installing collected packages: networkit\n",
            "Successfully installed networkit-10.1\n",
            "Collecting pca\n",
            "  Using cached pca-2.0.5-py3-none-any.whl (35 kB)\n",
            "Collecting datazets (from pca)\n",
            "  Downloading datazets-0.1.9-py3-none-any.whl (51 kB)\n",
            "\u001b[2K     \u001b[90m━━━━━━━━━━━━━━━━━━━━━━━━━━━━━━━━━━━━━━━━\u001b[0m \u001b[32m51.3/51.3 kB\u001b[0m \u001b[31m680.8 kB/s\u001b[0m eta \u001b[36m0:00:00\u001b[0m\n",
            "\u001b[?25hRequirement already satisfied: statsmodels in /usr/local/lib/python3.10/dist-packages (from pca) (0.14.0)\n",
            "Requirement already satisfied: matplotlib in /usr/local/lib/python3.10/dist-packages (from pca) (3.7.1)\n",
            "Requirement already satisfied: numpy in /usr/local/lib/python3.10/dist-packages (from pca) (1.23.5)\n",
            "Requirement already satisfied: scikit-learn in /usr/local/lib/python3.10/dist-packages (from pca) (1.2.2)\n",
            "Requirement already satisfied: scipy in /usr/local/lib/python3.10/dist-packages (from pca) (1.11.4)\n",
            "Collecting colourmap>=1.1.15 (from pca)\n",
            "  Downloading colourmap-1.1.16-py3-none-any.whl (10 kB)\n",
            "Requirement already satisfied: pandas in /usr/local/lib/python3.10/dist-packages (from pca) (1.5.3)\n",
            "Collecting scatterd>=1.3.7 (from pca)\n",
            "  Downloading scatterd-1.3.7-py3-none-any.whl (12 kB)\n",
            "Collecting adjusttext (from pca)\n",
            "  Downloading adjustText-0.8-py3-none-any.whl (9.1 kB)\n",
            "Requirement already satisfied: seaborn in /usr/local/lib/python3.10/dist-packages (from scatterd>=1.3.7->pca) (0.12.2)\n",
            "Requirement already satisfied: requests in /usr/local/lib/python3.10/dist-packages (from datazets->pca) (2.31.0)\n",
            "Requirement already satisfied: contourpy>=1.0.1 in /usr/local/lib/python3.10/dist-packages (from matplotlib->pca) (1.2.0)\n",
            "Requirement already satisfied: cycler>=0.10 in /usr/local/lib/python3.10/dist-packages (from matplotlib->pca) (0.12.1)\n",
            "Requirement already satisfied: fonttools>=4.22.0 in /usr/local/lib/python3.10/dist-packages (from matplotlib->pca) (4.46.0)\n",
            "Requirement already satisfied: kiwisolver>=1.0.1 in /usr/local/lib/python3.10/dist-packages (from matplotlib->pca) (1.4.5)\n",
            "Requirement already satisfied: packaging>=20.0 in /usr/local/lib/python3.10/dist-packages (from matplotlib->pca) (23.2)\n",
            "Requirement already satisfied: pillow>=6.2.0 in /usr/local/lib/python3.10/dist-packages (from matplotlib->pca) (9.4.0)\n",
            "Requirement already satisfied: pyparsing>=2.3.1 in /usr/local/lib/python3.10/dist-packages (from matplotlib->pca) (3.1.1)\n",
            "Requirement already satisfied: python-dateutil>=2.7 in /usr/local/lib/python3.10/dist-packages (from matplotlib->pca) (2.8.2)\n",
            "Requirement already satisfied: pytz>=2020.1 in /usr/local/lib/python3.10/dist-packages (from pandas->pca) (2023.3.post1)\n",
            "Requirement already satisfied: joblib>=1.1.1 in /usr/local/lib/python3.10/dist-packages (from scikit-learn->pca) (1.3.2)\n",
            "Requirement already satisfied: threadpoolctl>=2.0.0 in /usr/local/lib/python3.10/dist-packages (from scikit-learn->pca) (3.2.0)\n",
            "Requirement already satisfied: patsy>=0.5.2 in /usr/local/lib/python3.10/dist-packages (from statsmodels->pca) (0.5.4)\n",
            "Requirement already satisfied: six in /usr/local/lib/python3.10/dist-packages (from patsy>=0.5.2->statsmodels->pca) (1.16.0)\n",
            "Requirement already satisfied: charset-normalizer<4,>=2 in /usr/local/lib/python3.10/dist-packages (from requests->datazets->pca) (3.3.2)\n",
            "Requirement already satisfied: idna<4,>=2.5 in /usr/local/lib/python3.10/dist-packages (from requests->datazets->pca) (3.6)\n",
            "Requirement already satisfied: urllib3<3,>=1.21.1 in /usr/local/lib/python3.10/dist-packages (from requests->datazets->pca) (2.0.7)\n",
            "Requirement already satisfied: certifi>=2017.4.17 in /usr/local/lib/python3.10/dist-packages (from requests->datazets->pca) (2023.11.17)\n",
            "Installing collected packages: datazets, colourmap, adjusttext, scatterd, pca\n",
            "Successfully installed adjusttext-0.8 colourmap-1.1.16 datazets-0.1.9 pca-2.0.5 scatterd-1.3.7\n"
          ]
        }
      ]
    },
    {
      "cell_type": "code",
      "source": [
        "import sys\n",
        "import os\n",
        "import numpy as np\n",
        "import geopandas as gpd\n",
        "import folium\n",
        "import json\n",
        "import pandas as pd\n",
        "from CityGeoTools.metrics.data import CityInformationModel as BaseModel\n",
        "from CityGeoTools.metrics.calculations import services_clusterization"
      ],
      "metadata": {
        "id": "Dngv4QgN1T1Z"
      },
      "execution_count": 11,
      "outputs": []
    },
    {
      "cell_type": "markdown",
      "source": [
        "#Код"
      ],
      "metadata": {
        "id": "iQs5urN01Zvx"
      }
    },
    {
      "cell_type": "code",
      "source": [
        "bank = gpd.read_file(\"/content/bank.geojson\")\n",
        "cinema = gpd.read_file(\"/content/cinema.geojson\")\n",
        "fitness_centre = gpd.read_file(\"/content/fitness_centre.geojson\")\n",
        "hotel = gpd.read_file(\"/content/hotel.geojson\")\n",
        "school = gpd.read_file(\"/content/school.geojson\")\n",
        "block = gpd.read_file(\"/content/city_blocks.geojson\")\n",
        "districts = gpd.read_file(\"/content/districts.geojson\")"
      ],
      "metadata": {
        "id": "hQ6f2FNf1WiG"
      },
      "execution_count": null,
      "outputs": []
    },
    {
      "cell_type": "code",
      "source": [
        "block = block.to_crs(32640)\n",
        "districts = districts.to_crs(block.crs)"
      ],
      "metadata": {
        "id": "iJnbqD3I1yOj"
      },
      "execution_count": 6,
      "outputs": []
    },
    {
      "cell_type": "code",
      "source": [
        "block[\"block_id\"] = range(len(block))\n",
        "districts[\"districts_id\"] = range(len(districts))"
      ],
      "metadata": {
        "id": "XiCklsHT10Ld"
      },
      "execution_count": 7,
      "outputs": []
    },
    {
      "cell_type": "code",
      "source": [
        "bank[\"id\"] = range(len(bank))\n",
        "cinema[\"id\"] = range(len(cinema))\n",
        "fitness_centre[\"id\"] = range(len(fitness_centre))\n",
        "hotel[\"id\"] = range(len(hotel))\n",
        "school[\"id\"] = range(len(school))"
      ],
      "metadata": {
        "id": "4iN6AmSk12D2"
      },
      "execution_count": 8,
      "outputs": []
    },
    {
      "cell_type": "code",
      "source": [
        "bank[\"service_code\"] = 'bank'\n",
        "cinema[\"service_code\"] = 'cinema'\n",
        "fitness_centre[\"service_code\"] = 'fitness_centre'\n",
        "hotel[\"service_code\"] = 'hotel'\n",
        "school[\"service_code\"] = 'school'"
      ],
      "metadata": {
        "id": "-tcQ1M4k14nz"
      },
      "execution_count": 9,
      "outputs": []
    },
    {
      "cell_type": "code",
      "source": [
        "service = gpd.GeoDataFrame(pd.concat([bank, cinema, fitness_centre, hotel, school]))\n",
        "service = service[[\"id\", \"service_code\", \"geometry\"]]\n",
        "service = service.to_crs(32640)"
      ],
      "metadata": {
        "id": "c6HP3qGp1784"
      },
      "execution_count": 12,
      "outputs": []
    },
    {
      "cell_type": "code",
      "source": [
        "service[\"geometry\"] = service[\"geometry\"].centroid"
      ],
      "metadata": {
        "id": "d_d47U6G2Hek"
      },
      "execution_count": 13,
      "outputs": []
    },
    {
      "cell_type": "code",
      "source": [
        "service = service.sjoin(districts, how=\"left\")\n",
        "service = service[[\"id_left\", \"service_code\", \"geometry\", \"districts_id\"]]"
      ],
      "metadata": {
        "id": "37k16naM2KZC"
      },
      "execution_count": 14,
      "outputs": []
    },
    {
      "cell_type": "code",
      "source": [
        "service = service.sjoin(block, how=\"left\")\n",
        "service = service[[\"id_left\", \"service_code\", \"geometry\", \"districts_id\", \"block_id\"]]"
      ],
      "metadata": {
        "id": "yS6KMzCQ2MiS"
      },
      "execution_count": 15,
      "outputs": []
    },
    {
      "cell_type": "code",
      "source": [
        "service = service.rename(columns={'id_left': 'id', 'districts_id': 'administrative_unit_id'})\n",
        "service[\"municipality_id\"] = 10\n",
        "service[\"block_id\"] = service[\"block_id\"].fillna(service[\"block_id\"].median())"
      ],
      "metadata": {
        "id": "4ksco8gQ2YX0"
      },
      "execution_count": 16,
      "outputs": []
    },
    {
      "cell_type": "code",
      "source": [
        "service['block_id'] = service['block_id'].astype(int)"
      ],
      "metadata": {
        "id": "ziDuR6xM2cc2"
      },
      "execution_count": 17,
      "outputs": []
    },
    {
      "cell_type": "code",
      "source": [
        "service = service.to_crs(epsg=4326)\n",
        "service.crs = 'urn:ogc:def:crs:OGC::CRS84'\n",
        "\n",
        "\n",
        "service.to_file(\"Services.geojson\", driver=\"GeoJSON\")"
      ],
      "metadata": {
        "id": "h2jap5Le2gWO"
      },
      "execution_count": 18,
      "outputs": []
    },
    {
      "cell_type": "markdown",
      "source": [
        "#Кластеризация"
      ],
      "metadata": {
        "id": "Mp6p4eZf24vg"
      }
    },
    {
      "cell_type": "code",
      "source": [
        "city_model = BaseModel.CityInformationModel(city_name=\"Ekaterinburg\", city_crs=32640, cwd=\"CityGeoTools\")"
      ],
      "metadata": {
        "id": "GSbnlEzA27He"
      },
      "execution_count": 23,
      "outputs": []
    },
    {
      "cell_type": "code",
      "source": [
        "city_model.update_layer(\"Services\", \"/content/Services.geojson\")"
      ],
      "metadata": {
        "colab": {
          "base_uri": "https://localhost:8080/"
        },
        "id": "HL7U-XbF2_JS",
        "outputId": "912cedcd-9137-42ec-9762-a7bf49877216"
      },
      "execution_count": 24,
      "outputs": [
        {
          "output_type": "stream",
          "name": "stdout",
          "text": [
            "Validation of Services layer...\n",
            "Services layer loaded successfully!\n"
          ]
        }
      ]
    },
    {
      "cell_type": "code",
      "source": [
        "city_model.methods.services_clusterization.message"
      ],
      "metadata": {
        "colab": {
          "base_uri": "https://localhost:8080/"
        },
        "id": "aSYzrB1T3R6Y",
        "outputId": "e7d14295-c13f-44e0-adbf-ff88029acb23"
      },
      "execution_count": 25,
      "outputs": [
        {
          "output_type": "execute_result",
          "data": {
            "text/plain": [
              "{'Services': 'Layer matches specification'}"
            ]
          },
          "metadata": {},
          "execution_count": 25
        }
      ]
    },
    {
      "cell_type": "code",
      "source": [
        "service_clusterization = services_clusterization.ServicesClusterization(city_model).get_clusters_polygon(\n",
        "    service_types=['bank', 'cinema', 'fitness_centre', 'school', 'hotel'], n_std=2, condition_value=1000\n",
        "    )\n",
        "\n",
        "service_points = gpd.GeoDataFrame.from_features(service_clusterization['services']).set_crs(4326)\n",
        "service_clusters = gpd.GeoDataFrame.from_features(service_clusterization['polygons']).set_crs(4326)"
      ],
      "metadata": {
        "id": "A1z2kBj_3mz4"
      },
      "execution_count": 29,
      "outputs": []
    },
    {
      "cell_type": "code",
      "source": [
        "map_center = [56.833094, 60.612603]\n",
        "map = folium.Map(location=map_center, zoom_start=13, tiles='CartoDB dark_matter')\n",
        "\n",
        "service_colors = {\n",
        "    'bank': 'red',\n",
        "    'cinema': 'blue',\n",
        "    'fitness_centre': 'black',\n",
        "    'school': 'green',\n",
        "    'hotel': 'pink'\n",
        "}\n",
        "\n",
        "for _, row in service_points.iterrows():\n",
        "    service_type = row['service_code']\n",
        "    color = service_colors.get(service_type, 'gray')\n",
        "\n",
        "    folium.CircleMarker(\n",
        "        location=[row.geometry.y, row.geometry.x],\n",
        "        radius=3,\n",
        "        color=color,\n",
        "        fill=True,\n",
        "        fill_color=color,\n",
        "        fill_opacity=0.7,\n",
        "        popup=f\"Service Type: {service_type}\"\n",
        "    ).add_to(map)\n",
        "\n",
        "folium.GeoJson(\n",
        "    data=service_clusters,\n",
        "    tooltip=folium.features.GeoJsonTooltip(['bank', 'cinema', 'fitness_centre', 'school', 'hotel'])\n",
        ").add_to(map)\n",
        "\n",
        "legend_html = f\"\"\"\n",
        "<div style=\"position: fixed; bottom: 50px; left: 50px; z-index:1000; font-size:14px; background-color:white; padding: 10px; border:1px solid grey; border-radius:5px;\">\n",
        "    <p style=\"margin:0;\"><strong>Legend</strong></p>\n",
        "    {''.join([f'<p style=\"margin:0;\"><span style=\"color:{color}; font-size:20px;\">&bull;</span> {service_type.capitalize()}</p>' for service_type, color in service_colors.items()])}\n",
        "</div>\n",
        "\"\"\"\n",
        "\n",
        "map.get_root().html.add_child(folium.Element(legend_html))\n",
        "\n",
        "map.save(\"clusters_satellite.html\")\n"
      ],
      "metadata": {
        "id": "FeeckLOx6eBX"
      },
      "execution_count": 30,
      "outputs": []
    }
  ]
}