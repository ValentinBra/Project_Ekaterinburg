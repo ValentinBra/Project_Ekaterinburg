{
  "nbformat": 4,
  "nbformat_minor": 0,
  "metadata": {
    "colab": {
      "provenance": []
    },
    "kernelspec": {
      "name": "python3",
      "display_name": "Python 3"
    },
    "language_info": {
      "name": "python"
    }
  },
  "cells": [
    {
      "cell_type": "markdown",
      "source": [
        "#Установка"
      ],
      "metadata": {
        "id": "kR8PkYsqHnxT"
      }
    },
    {
      "cell_type": "code",
      "execution_count": null,
      "metadata": {
        "id": "SRiAZSEvHYxZ"
      },
      "outputs": [],
      "source": [
        "!pip install shapely==1.8.5.post1\n",
        "import shapely.geometry as geom\n",
        "print(geom.__all__)"
      ]
    },
    {
      "cell_type": "code",
      "source": [
        "!git clone https://github.com/iduprojects/CityGeoTools"
      ],
      "metadata": {
        "id": "-qGxErhOHuAW"
      },
      "execution_count": null,
      "outputs": []
    },
    {
      "cell_type": "code",
      "source": [
        "!pip install pysal osm2geojson rpyc osmnx==1.2.2 networkit"
      ],
      "metadata": {
        "id": "llVg_LAkHwPA"
      },
      "execution_count": null,
      "outputs": []
    },
    {
      "cell_type": "code",
      "source": [
        "!pip install geonetworkx"
      ],
      "metadata": {
        "id": "prvhwD9PLK1L"
      },
      "execution_count": null,
      "outputs": []
    },
    {
      "cell_type": "code",
      "source": [
        "import sys\n",
        "import os\n",
        "import numpy as np\n",
        "import networkit\n",
        "import geopandas as gpd\n",
        "import warnings\n",
        "import networkx as nx\n",
        "import folium\n",
        "import momepy\n",
        "import osmnx as ox\n",
        "import itertools\n",
        "from folium import plugins\n",
        "from branca.colormap import linear\n",
        "import pandas as pd\n",
        "import geonetworkx\n",
        "import shapely\n",
        "import copy\n",
        "import shapely.wkt\n",
        "import networkit as nk\n",
        "\n",
        "from scipy import spatial\n",
        "from shapely.geometry import LineString\n",
        "from shapely.geometry import Polygon, Point, LineString"
      ],
      "metadata": {
        "id": "nOeJcKRzHzc8"
      },
      "execution_count": null,
      "outputs": []
    },
    {
      "cell_type": "code",
      "source": [
        "folder = \"/content/CityGeoTools\"\n",
        "sys.path.append(folder)"
      ],
      "metadata": {
        "id": "Vt2gt_dJH43Q"
      },
      "execution_count": null,
      "outputs": []
    },
    {
      "cell_type": "code",
      "source": [
        "from data_collecting.get_graphs import get_osmnx_graph, get_public_trasport_graph, get_intermodal_graph"
      ],
      "metadata": {
        "id": "5iCZgdTVH7L0"
      },
      "execution_count": null,
      "outputs": []
    },
    {
      "cell_type": "markdown",
      "source": [
        "#Функции"
      ],
      "metadata": {
        "id": "hD7QnWSPLU_I"
      }
    },
    {
      "cell_type": "code",
      "source": [
        "\"\"\"Functions to calculate distance matrix with road network\"\"\"\n",
        "\n",
        "def calculate_distance_matrix(road_network, houses, facilities, crs=32634, type=['walk'], weight='length_meter'):\n",
        "\n",
        "    network = road_network.edge_subgraph(\n",
        "    [(u, v, k) for u, v, k, d in road_network.edges(data=True, keys=True)\n",
        "    if d[\"type\"] in type]\n",
        "    )\n",
        "\n",
        "    # find nearest points to objects on road network\n",
        "    gdf = gpd.GeoDataFrame.from_dict(dict(network.nodes(data=True)), orient='index')\n",
        "    gdf[\"geometry\"] = gdf.apply(lambda row: shapely.geometry.Point(row.x, row.y), axis=1)\n",
        "    nodes_gdf = gpd.GeoDataFrame(gdf, geometry = gdf['geometry'], crs = crs)\n",
        "    from_houses = nodes_gdf['geometry'].sindex.nearest(houses['geometry'], return_distance = True, return_all = False)\n",
        "    to_facilities = nodes_gdf['geometry'].sindex.nearest(facilities['geometry'], return_distance = True, return_all = False)\n",
        "\n",
        "    distance_matrix = pd.DataFrame(0, index = to_facilities[0][1], columns = from_houses[0][1])\n",
        "    splited_matrix = np.array_split(distance_matrix.copy(deep = True), int(len(distance_matrix) / 1000) + 1)\n",
        "\n",
        "    # conver nx graph to nk graph in oder to speed up the calculation\n",
        "    nk_idmap = _get_nx2nk_idmap(network)\n",
        "    net_nk =  _convert_nx2nk(network, idmap=nk_idmap, weight=weight)\n",
        "\n",
        "    # calculate distance matrix\n",
        "    for i in range(len(splited_matrix)):\n",
        "        r = nk.distance.SPSP(G=net_nk, sources=splited_matrix[i].index.values).run()\n",
        "        splited_matrix[i] = splited_matrix[i].apply(lambda x: _get_nk_distances(r,x), axis =1)\n",
        "        del r\n",
        "\n",
        "    distance_matrix = pd.concat(splited_matrix)\n",
        "    distance_matrix.index = list(facilities.iloc[to_facilities[0][0]].index)\n",
        "    distance_matrix.columns = list(houses.iloc[from_houses[0][0]].index)\n",
        "\n",
        "    del splited_matrix\n",
        "\n",
        "    # replace 0 values (caused by road network sparsity) to euclidian distance between two points\n",
        "    distance_matrix = distance_matrix.apply(lambda x: _calculate_euclidian_distance(x, houses, facilities))\n",
        "    return distance_matrix\n",
        "\n",
        "\n",
        "def _calculate_euclidian_distance(loc, houses, facilities):\n",
        "    s = copy.deepcopy(loc)\n",
        "    s_0 = s[s == 0]\n",
        "    if len(s_0) > 0:\n",
        "        s.loc[s_0.index] = facilities[\"geometry\"][s.index].distance(houses[\"geometry\"][s.name])\n",
        "        return s\n",
        "    else:\n",
        "        return s\n",
        "\n",
        "\n",
        "\"\"\"Functions to convert Networkx graph to Networkit graph\"\"\"\n",
        "\n",
        "def _get_nx2nk_idmap(G_nx):\n",
        "    idmap = dict((id, u) for (id, u) in zip(G_nx.nodes(), range(G_nx.number_of_nodes())))\n",
        "    return idmap\n",
        "\n",
        "def _convert_nx2nk(G_nx, idmap=None, weight=None):\n",
        "\n",
        "    if not idmap:\n",
        "        idmap = _get_nx2nk_idmap(G_nx)\n",
        "    n = max(idmap.values()) + 1\n",
        "    edges = list(G_nx.edges())\n",
        "\n",
        "    if weight:\n",
        "        G_nk = nk.Graph(n, directed=G_nx.is_directed(), weighted=True)\n",
        "        for u_, v_ in edges:\n",
        "                u, v = idmap[u_], idmap[v_]\n",
        "                d = dict(G_nx[u_][v_])\n",
        "                if len(d) > 1:\n",
        "                    for d_ in d.values():\n",
        "                            v__ = G_nk.addNodes(2)\n",
        "                            u__ = v__ - 1\n",
        "                            w = round(d_[weight], 1) if weight in d_ else 1\n",
        "                            G_nk.addEdge(u, v, w)\n",
        "                            G_nk.addEdge(u_, u__, 0)\n",
        "                            G_nk.addEdge(v_, v__, 0)\n",
        "                else:\n",
        "                    d_ = list(d.values())[0]\n",
        "                    w = round(d_[weight], 1) if weight in d_ else 1\n",
        "                    G_nk.addEdge(u, v, w)\n",
        "    else:\n",
        "        G_nk = nk.Graph(n, directed=G_nx.is_directed())\n",
        "        for u_, v_ in edges:\n",
        "                u, v = idmap[u_], idmap[v_]\n",
        "                G_nk.addEdge(u, v)\n",
        "\n",
        "    return G_nk\n",
        "\n",
        "def _get_nk_distances(nk_dists, loc):\n",
        "    target_nodes = loc.index\n",
        "    source_node = loc.name\n",
        "    distances = [nk_dists.getDistance(source_node, node) for node in target_nodes]\n",
        "    return pd.Series(data = distances, index = target_nodes)"
      ],
      "metadata": {
        "id": "pOW6CBm2Knr7"
      },
      "execution_count": null,
      "outputs": []
    },
    {
      "cell_type": "markdown",
      "source": [
        "#Решение"
      ],
      "metadata": {
        "id": "hjicKTfiIXq3"
      }
    },
    {
      "cell_type": "code",
      "source": [
        "walk_graph = get_osmnx_graph(1104258, 32641, 'walk')"
      ],
      "metadata": {
        "id": "9JJ8-YIVINpP"
      },
      "execution_count": null,
      "outputs": []
    },
    {
      "cell_type": "code",
      "source": [
        "school = gpd.read_file('/content/school.geojson').to_crs(32641)"
      ],
      "metadata": {
        "id": "eCKAmO0IJGaQ"
      },
      "execution_count": null,
      "outputs": []
    },
    {
      "cell_type": "code",
      "source": [
        "buildings = gpd.read_file('/content/Buildings_output.geojson').to_crs(32641)\n",
        "buildings = buildings.query('is_living').reset_index(drop=True)\n",
        "buildings.reset_index(inplace = True, drop = True)"
      ],
      "metadata": {
        "id": "txrjpfHcJzt7"
      },
      "execution_count": null,
      "outputs": []
    },
    {
      "cell_type": "code",
      "source": [
        "matrix = calculate_distance_matrix(walk_graph, buildings, school)"
      ],
      "metadata": {
        "id": "NV_9h2MUKQ58"
      },
      "execution_count": null,
      "outputs": []
    },
    {
      "cell_type": "code",
      "source": [
        "matrix.to_csv('matrix.csv', index=False)"
      ],
      "metadata": {
        "id": "Q653gS0rLjFM"
      },
      "execution_count": null,
      "outputs": []
    }
  ]
}