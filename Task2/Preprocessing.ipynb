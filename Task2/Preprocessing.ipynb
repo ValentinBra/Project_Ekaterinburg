{
  "nbformat": 4,
  "nbformat_minor": 0,
  "metadata": {
    "colab": {
      "provenance": []
    },
    "kernelspec": {
      "name": "python3",
      "display_name": "Python 3"
    },
    "language_info": {
      "name": "python"
    }
  },
  "cells": [
    {
      "cell_type": "markdown",
      "source": [
        "#Для визуализации карты"
      ],
      "metadata": {
        "id": "eTSINFSURIP4"
      }
    },
    {
      "cell_type": "code",
      "source": [
        "!pip install folium matplotlib mapclassify"
      ],
      "metadata": {
        "id": "F1B9e3VFGs2p",
        "colab": {
          "base_uri": "https://localhost:8080/"
        },
        "outputId": "6121847f-829a-4b54-f1b4-2f02ea15fdf7"
      },
      "execution_count": 1,
      "outputs": [
        {
          "output_type": "stream",
          "name": "stdout",
          "text": [
            "Requirement already satisfied: folium in /usr/local/lib/python3.10/dist-packages (0.14.0)\n",
            "Requirement already satisfied: matplotlib in /usr/local/lib/python3.10/dist-packages (3.7.1)\n",
            "Collecting mapclassify\n",
            "  Downloading mapclassify-2.6.1-py3-none-any.whl (38 kB)\n",
            "Requirement already satisfied: branca>=0.6.0 in /usr/local/lib/python3.10/dist-packages (from folium) (0.7.0)\n",
            "Requirement already satisfied: jinja2>=2.9 in /usr/local/lib/python3.10/dist-packages (from folium) (3.1.2)\n",
            "Requirement already satisfied: numpy in /usr/local/lib/python3.10/dist-packages (from folium) (1.23.5)\n",
            "Requirement already satisfied: requests in /usr/local/lib/python3.10/dist-packages (from folium) (2.31.0)\n",
            "Requirement already satisfied: contourpy>=1.0.1 in /usr/local/lib/python3.10/dist-packages (from matplotlib) (1.2.0)\n",
            "Requirement already satisfied: cycler>=0.10 in /usr/local/lib/python3.10/dist-packages (from matplotlib) (0.12.1)\n",
            "Requirement already satisfied: fonttools>=4.22.0 in /usr/local/lib/python3.10/dist-packages (from matplotlib) (4.46.0)\n",
            "Requirement already satisfied: kiwisolver>=1.0.1 in /usr/local/lib/python3.10/dist-packages (from matplotlib) (1.4.5)\n",
            "Requirement already satisfied: packaging>=20.0 in /usr/local/lib/python3.10/dist-packages (from matplotlib) (23.2)\n",
            "Requirement already satisfied: pillow>=6.2.0 in /usr/local/lib/python3.10/dist-packages (from matplotlib) (9.4.0)\n",
            "Requirement already satisfied: pyparsing>=2.3.1 in /usr/local/lib/python3.10/dist-packages (from matplotlib) (3.1.1)\n",
            "Requirement already satisfied: python-dateutil>=2.7 in /usr/local/lib/python3.10/dist-packages (from matplotlib) (2.8.2)\n",
            "Requirement already satisfied: networkx>=2.7 in /usr/local/lib/python3.10/dist-packages (from mapclassify) (3.2.1)\n",
            "Requirement already satisfied: pandas!=1.5.0,>=1.4 in /usr/local/lib/python3.10/dist-packages (from mapclassify) (1.5.3)\n",
            "Requirement already satisfied: scikit-learn>=1.0 in /usr/local/lib/python3.10/dist-packages (from mapclassify) (1.2.2)\n",
            "Requirement already satisfied: scipy>=1.8 in /usr/local/lib/python3.10/dist-packages (from mapclassify) (1.11.4)\n",
            "Requirement already satisfied: MarkupSafe>=2.0 in /usr/local/lib/python3.10/dist-packages (from jinja2>=2.9->folium) (2.1.3)\n",
            "Requirement already satisfied: pytz>=2020.1 in /usr/local/lib/python3.10/dist-packages (from pandas!=1.5.0,>=1.4->mapclassify) (2023.3.post1)\n",
            "Requirement already satisfied: six>=1.5 in /usr/local/lib/python3.10/dist-packages (from python-dateutil>=2.7->matplotlib) (1.16.0)\n",
            "Requirement already satisfied: joblib>=1.1.1 in /usr/local/lib/python3.10/dist-packages (from scikit-learn>=1.0->mapclassify) (1.3.2)\n",
            "Requirement already satisfied: threadpoolctl>=2.0.0 in /usr/local/lib/python3.10/dist-packages (from scikit-learn>=1.0->mapclassify) (3.2.0)\n",
            "Requirement already satisfied: charset-normalizer<4,>=2 in /usr/local/lib/python3.10/dist-packages (from requests->folium) (3.3.2)\n",
            "Requirement already satisfied: idna<4,>=2.5 in /usr/local/lib/python3.10/dist-packages (from requests->folium) (3.6)\n",
            "Requirement already satisfied: urllib3<3,>=1.21.1 in /usr/local/lib/python3.10/dist-packages (from requests->folium) (2.0.7)\n",
            "Requirement already satisfied: certifi>=2017.4.17 in /usr/local/lib/python3.10/dist-packages (from requests->folium) (2023.11.17)\n",
            "Installing collected packages: mapclassify\n",
            "Successfully installed mapclassify-2.6.1\n"
          ]
        }
      ]
    },
    {
      "cell_type": "markdown",
      "source": [
        "#Импорт"
      ],
      "metadata": {
        "id": "JqU2-p4fP5gk"
      }
    },
    {
      "cell_type": "code",
      "source": [
        "import numpy as np\n",
        "import geopandas as gpd\n",
        "import pandas as pd\n",
        "from sklearn.ensemble import RandomForestRegressor\n",
        "from sklearn.model_selection import train_test_split\n",
        "from sklearn.metrics import mean_squared_error\n",
        "from sklearn.impute import SimpleImputer\n",
        "import matplotlib.pyplot as plt\n",
        "import seaborn as sns"
      ],
      "metadata": {
        "id": "PHVD8SoIt3ln"
      },
      "execution_count": 2,
      "outputs": []
    },
    {
      "cell_type": "markdown",
      "source": [
        "#Валидация"
      ],
      "metadata": {
        "id": "kVESftYt9zlV"
      }
    },
    {
      "cell_type": "code",
      "execution_count": 3,
      "metadata": {
        "id": "GuXz1wxQZ6uy"
      },
      "outputs": [],
      "source": [
        "buildings = gpd.read_file('/content/Building_input.geojson')"
      ]
    },
    {
      "cell_type": "markdown",
      "source": [
        "Посмотрим информацию о данных.\n",
        "Итак, у нас есть следующие столбцы:\n",
        "\n",
        "\n",
        "*   ID-здания\n",
        "*   Статус (жилое/нежилое)\n",
        "*   Номер здания\n",
        "*   Тип здания\n",
        "*   Этажность\n",
        "*   Жилая площадь\n",
        "*   Нежилая площадь\n",
        "*   Общая площадь\n",
        "*   Количество человек, проживающих в доме (для жилой застройки)\n",
        "*   Геометрия\n",
        "\n",
        "\n",
        "\n",
        "\n",
        "\n",
        "\n",
        "\n",
        "\n",
        "\n",
        "\n",
        "\n",
        "\n"
      ],
      "metadata": {
        "id": "qSKvI1efDXVY"
      }
    },
    {
      "cell_type": "code",
      "source": [
        "buildings.info()"
      ],
      "metadata": {
        "colab": {
          "base_uri": "https://localhost:8080/"
        },
        "id": "wz2hv30qCyTu",
        "outputId": "0796afc9-4057-4583-e67d-dd39c85c9cae"
      },
      "execution_count": 4,
      "outputs": [
        {
          "output_type": "stream",
          "name": "stdout",
          "text": [
            "<class 'geopandas.geodataframe.GeoDataFrame'>\n",
            "RangeIndex: 47942 entries, 0 to 47941\n",
            "Data columns (total 11 columns):\n",
            " #   Column                Non-Null Count  Dtype   \n",
            "---  ------                --------------  -----   \n",
            " 0   id                    47942 non-null  object  \n",
            " 1   is_living             47942 non-null  float64 \n",
            " 2   addr:housenumber      18775 non-null  object  \n",
            " 3   building              47942 non-null  object  \n",
            " 4   building:levels       47942 non-null  object  \n",
            " 5   area_residential      47910 non-null  float64 \n",
            " 6   area_non_residential  47676 non-null  float64 \n",
            " 7   area                  47942 non-null  float64 \n",
            " 8   people                47913 non-null  float64 \n",
            " 9   area_total            47942 non-null  float64 \n",
            " 10  geometry              47942 non-null  geometry\n",
            "dtypes: float64(6), geometry(1), object(4)\n",
            "memory usage: 4.0+ MB\n"
          ]
        }
      ]
    },
    {
      "cell_type": "markdown",
      "source": [
        "Проблемы во входных данных"
      ],
      "metadata": {
        "id": "6ekN31K1UBLX"
      }
    },
    {
      "cell_type": "code",
      "source": [
        "filtered_buildings = buildings[(buildings['building'] == 'school') & (buildings['people'] != 0)]\n",
        "filtered_buildings"
      ],
      "metadata": {
        "colab": {
          "base_uri": "https://localhost:8080/",
          "height": 168
        },
        "id": "eRLPgyXSQzvy",
        "outputId": "d3a37a54-c57c-408f-c043-12a7af5614f9"
      },
      "execution_count": 5,
      "outputs": [
        {
          "output_type": "execute_result",
          "data": {
            "text/plain": [
              "          id  is_living addr:housenumber building building:levels  \\\n",
              "29349  13719        0.0             None   school               2   \n",
              "\n",
              "       area_residential  area_non_residential    area  people  area_total  \\\n",
              "29349               0.0                   0.0  2964.0   490.0      2964.0   \n",
              "\n",
              "                                                geometry  \n",
              "29349  POLYGON ((60.66048 56.78421, 60.66136 56.78384...  "
            ],
            "text/html": [
              "\n",
              "  <div id=\"df-6aa16744-32ef-4baa-8b13-52c8316281b6\" class=\"colab-df-container\">\n",
              "    <div>\n",
              "<style scoped>\n",
              "    .dataframe tbody tr th:only-of-type {\n",
              "        vertical-align: middle;\n",
              "    }\n",
              "\n",
              "    .dataframe tbody tr th {\n",
              "        vertical-align: top;\n",
              "    }\n",
              "\n",
              "    .dataframe thead th {\n",
              "        text-align: right;\n",
              "    }\n",
              "</style>\n",
              "<table border=\"1\" class=\"dataframe\">\n",
              "  <thead>\n",
              "    <tr style=\"text-align: right;\">\n",
              "      <th></th>\n",
              "      <th>id</th>\n",
              "      <th>is_living</th>\n",
              "      <th>addr:housenumber</th>\n",
              "      <th>building</th>\n",
              "      <th>building:levels</th>\n",
              "      <th>area_residential</th>\n",
              "      <th>area_non_residential</th>\n",
              "      <th>area</th>\n",
              "      <th>people</th>\n",
              "      <th>area_total</th>\n",
              "      <th>geometry</th>\n",
              "    </tr>\n",
              "  </thead>\n",
              "  <tbody>\n",
              "    <tr>\n",
              "      <th>29349</th>\n",
              "      <td>13719</td>\n",
              "      <td>0.0</td>\n",
              "      <td>None</td>\n",
              "      <td>school</td>\n",
              "      <td>2</td>\n",
              "      <td>0.0</td>\n",
              "      <td>0.0</td>\n",
              "      <td>2964.0</td>\n",
              "      <td>490.0</td>\n",
              "      <td>2964.0</td>\n",
              "      <td>POLYGON ((60.66048 56.78421, 60.66136 56.78384...</td>\n",
              "    </tr>\n",
              "  </tbody>\n",
              "</table>\n",
              "</div>\n",
              "    <div class=\"colab-df-buttons\">\n",
              "\n",
              "  <div class=\"colab-df-container\">\n",
              "    <button class=\"colab-df-convert\" onclick=\"convertToInteractive('df-6aa16744-32ef-4baa-8b13-52c8316281b6')\"\n",
              "            title=\"Convert this dataframe to an interactive table.\"\n",
              "            style=\"display:none;\">\n",
              "\n",
              "  <svg xmlns=\"http://www.w3.org/2000/svg\" height=\"24px\" viewBox=\"0 -960 960 960\">\n",
              "    <path d=\"M120-120v-720h720v720H120Zm60-500h600v-160H180v160Zm220 220h160v-160H400v160Zm0 220h160v-160H400v160ZM180-400h160v-160H180v160Zm440 0h160v-160H620v160ZM180-180h160v-160H180v160Zm440 0h160v-160H620v160Z\"/>\n",
              "  </svg>\n",
              "    </button>\n",
              "\n",
              "  <style>\n",
              "    .colab-df-container {\n",
              "      display:flex;\n",
              "      gap: 12px;\n",
              "    }\n",
              "\n",
              "    .colab-df-convert {\n",
              "      background-color: #E8F0FE;\n",
              "      border: none;\n",
              "      border-radius: 50%;\n",
              "      cursor: pointer;\n",
              "      display: none;\n",
              "      fill: #1967D2;\n",
              "      height: 32px;\n",
              "      padding: 0 0 0 0;\n",
              "      width: 32px;\n",
              "    }\n",
              "\n",
              "    .colab-df-convert:hover {\n",
              "      background-color: #E2EBFA;\n",
              "      box-shadow: 0px 1px 2px rgba(60, 64, 67, 0.3), 0px 1px 3px 1px rgba(60, 64, 67, 0.15);\n",
              "      fill: #174EA6;\n",
              "    }\n",
              "\n",
              "    .colab-df-buttons div {\n",
              "      margin-bottom: 4px;\n",
              "    }\n",
              "\n",
              "    [theme=dark] .colab-df-convert {\n",
              "      background-color: #3B4455;\n",
              "      fill: #D2E3FC;\n",
              "    }\n",
              "\n",
              "    [theme=dark] .colab-df-convert:hover {\n",
              "      background-color: #434B5C;\n",
              "      box-shadow: 0px 1px 3px 1px rgba(0, 0, 0, 0.15);\n",
              "      filter: drop-shadow(0px 1px 2px rgba(0, 0, 0, 0.3));\n",
              "      fill: #FFFFFF;\n",
              "    }\n",
              "  </style>\n",
              "\n",
              "    <script>\n",
              "      const buttonEl =\n",
              "        document.querySelector('#df-6aa16744-32ef-4baa-8b13-52c8316281b6 button.colab-df-convert');\n",
              "      buttonEl.style.display =\n",
              "        google.colab.kernel.accessAllowed ? 'block' : 'none';\n",
              "\n",
              "      async function convertToInteractive(key) {\n",
              "        const element = document.querySelector('#df-6aa16744-32ef-4baa-8b13-52c8316281b6');\n",
              "        const dataTable =\n",
              "          await google.colab.kernel.invokeFunction('convertToInteractive',\n",
              "                                                    [key], {});\n",
              "        if (!dataTable) return;\n",
              "\n",
              "        const docLinkHtml = 'Like what you see? Visit the ' +\n",
              "          '<a target=\"_blank\" href=https://colab.research.google.com/notebooks/data_table.ipynb>data table notebook</a>'\n",
              "          + ' to learn more about interactive tables.';\n",
              "        element.innerHTML = '';\n",
              "        dataTable['output_type'] = 'display_data';\n",
              "        await google.colab.output.renderOutput(dataTable, element);\n",
              "        const docLink = document.createElement('div');\n",
              "        docLink.innerHTML = docLinkHtml;\n",
              "        element.appendChild(docLink);\n",
              "      }\n",
              "    </script>\n",
              "  </div>\n",
              "\n",
              "    </div>\n",
              "  </div>\n"
            ]
          },
          "metadata": {},
          "execution_count": 5
        }
      ]
    },
    {
      "cell_type": "code",
      "source": [
        "buildings.loc[(buildings['building'] == 'school') & (buildings['people'] != 0), 'people'] = 0"
      ],
      "metadata": {
        "id": "8Yqd48IYTuB4"
      },
      "execution_count": 6,
      "outputs": []
    },
    {
      "cell_type": "markdown",
      "source": [
        "Проверим уникальность id"
      ],
      "metadata": {
        "id": "wE_fNQVN-8xu"
      }
    },
    {
      "cell_type": "code",
      "source": [
        "is_id_unique = not buildings['id'].duplicated().any()\n",
        "\n",
        "if is_id_unique:\n",
        "    print(\"Столбец 'id' уникален.\")\n",
        "else:\n",
        "    print(\"В столбце 'id' есть дубликаты.\")"
      ],
      "metadata": {
        "colab": {
          "base_uri": "https://localhost:8080/"
        },
        "id": "bBNxQTgh-5ki",
        "outputId": "76a4a117-0ffa-48e2-c27a-8ebd9d80971b"
      },
      "execution_count": 7,
      "outputs": [
        {
          "output_type": "stream",
          "name": "stdout",
          "text": [
            "Столбец 'id' уникален.\n"
          ]
        }
      ]
    },
    {
      "cell_type": "code",
      "source": [
        "buildings['is_living'].unique()"
      ],
      "metadata": {
        "colab": {
          "base_uri": "https://localhost:8080/"
        },
        "id": "Q_XbP1GDDxI-",
        "outputId": "e9f1beab-42f9-41e5-fdb5-c0d1fbb656b8"
      },
      "execution_count": 8,
      "outputs": [
        {
          "output_type": "execute_result",
          "data": {
            "text/plain": [
              "array([0., 1.])"
            ]
          },
          "metadata": {},
          "execution_count": 8
        }
      ]
    },
    {
      "cell_type": "markdown",
      "source": [
        "Присваиваем столбцу, определяющему жилую застройку, формат bool"
      ],
      "metadata": {
        "id": "WFJLcCdvNYFQ"
      }
    },
    {
      "cell_type": "code",
      "source": [
        "buildings['is_living'] = buildings['is_living'].astype(bool)"
      ],
      "metadata": {
        "id": "_mNoFxCrEEqu"
      },
      "execution_count": 9,
      "outputs": []
    },
    {
      "cell_type": "markdown",
      "source": [
        "Удаляем ненужные столбцы. Для дальнейшего анализа оставим:\n",
        "ID-здания, Статус (жилое/нежилое), Тип здания, Этажность, Жилая площадь, Общая площадь, Количество человек, Геометрия"
      ],
      "metadata": {
        "id": "qptCM_qMOXZD"
      }
    },
    {
      "cell_type": "code",
      "source": [
        "columns_to_drop = ['addr:housenumber', 'area_non_residential', 'area']\n",
        "buildings = buildings.drop(columns=columns_to_drop, errors='ignore')"
      ],
      "metadata": {
        "id": "IuInnscWOZtL"
      },
      "execution_count": 10,
      "outputs": []
    },
    {
      "cell_type": "markdown",
      "source": [
        "Проверка пропущенных значений"
      ],
      "metadata": {
        "id": "iaqevfASDc2O"
      }
    },
    {
      "cell_type": "code",
      "source": [
        "buildings.isnull().sum()"
      ],
      "metadata": {
        "colab": {
          "base_uri": "https://localhost:8080/"
        },
        "id": "V_60ZQXOC47D",
        "outputId": "8bfdef1d-7508-4e4e-d6ba-6a1a26e2aadc"
      },
      "execution_count": 11,
      "outputs": [
        {
          "output_type": "execute_result",
          "data": {
            "text/plain": [
              "id                   0\n",
              "is_living            0\n",
              "building             0\n",
              "building:levels      0\n",
              "area_residential    32\n",
              "people              29\n",
              "area_total           0\n",
              "geometry             0\n",
              "dtype: int64"
            ]
          },
          "metadata": {},
          "execution_count": 11
        }
      ]
    },
    {
      "cell_type": "markdown",
      "source": [
        "Проверка этажности на строки\n"
      ],
      "metadata": {
        "id": "n-3Gqq0HQxAZ"
      }
    },
    {
      "cell_type": "code",
      "source": [
        "non_numeric_rows = buildings['building:levels'].apply(pd.to_numeric, errors='coerce').isna()\n",
        "print(buildings.loc[non_numeric_rows, 'building:levels'])"
      ],
      "metadata": {
        "colab": {
          "base_uri": "https://localhost:8080/"
        },
        "id": "Scu8SP3NTQ9k",
        "outputId": "4c0273f0-8b64-4de9-ddb8-91420d348a34"
      },
      "execution_count": 12,
      "outputs": [
        {
          "output_type": "stream",
          "name": "stdout",
          "text": [
            "5853    1;2\n",
            "5854    1;2\n",
            "Name: building:levels, dtype: object\n"
          ]
        }
      ]
    },
    {
      "cell_type": "markdown",
      "source": [
        "Оставляем лишь первое число в строке"
      ],
      "metadata": {
        "id": "QTDNcnoE9COm"
      }
    },
    {
      "cell_type": "code",
      "source": [
        "buildings['building:levels'] = buildings['building:levels'].str.extract('(\\d+)', expand=False)"
      ],
      "metadata": {
        "id": "Lb3r4oGFURy_"
      },
      "execution_count": 13,
      "outputs": []
    },
    {
      "cell_type": "markdown",
      "source": [
        "Восстанавливаем численность проживающих людей с помощтю модели регрессии. Для обучения модели и заполнения пропущенных значений, будем использовать столбцы 'area_total', 'building:levels', 'is_living'."
      ],
      "metadata": {
        "id": "DAdoEif7OfHk"
      }
    },
    {
      "cell_type": "code",
      "source": [
        "features = ['is_living', 'building:levels', 'area_total']\n",
        "\n",
        "data_with_nan = buildings[buildings['people'].isnull()]\n",
        "data_without_nan = buildings.dropna(subset=['people'])\n",
        "\n",
        "X_train, X_test, y_train, y_test = train_test_split(\n",
        "    data_without_nan[features], data_without_nan['people'], test_size=0.2, random_state=100\n",
        ")\n",
        "\n",
        "model = RandomForestRegressor(random_state=100)\n",
        "model.fit(X_train, y_train)\n",
        "\n",
        "predicted_people = model.predict(data_with_nan[features])\n",
        "\n",
        "buildings.loc[buildings['people'].isnull(), 'people'] = predicted_people"
      ],
      "metadata": {
        "id": "x9L3wi1H6SDS"
      },
      "execution_count": 14,
      "outputs": []
    },
    {
      "cell_type": "markdown",
      "source": [
        "Проверяем пропущенные значения"
      ],
      "metadata": {
        "id": "K-tno_nHPd5P"
      }
    },
    {
      "cell_type": "code",
      "source": [
        "print(buildings['people'].isnull().sum())"
      ],
      "metadata": {
        "colab": {
          "base_uri": "https://localhost:8080/"
        },
        "id": "ysXb7mV9Pbvt",
        "outputId": "9cccd280-5dd9-4570-a190-f93c6e6be2db"
      },
      "execution_count": 15,
      "outputs": [
        {
          "output_type": "stream",
          "name": "stdout",
          "text": [
            "0\n"
          ]
        }
      ]
    },
    {
      "cell_type": "markdown",
      "source": [
        "Восстанавливаем жилую площадь с помощью модели регрессии. Для обучения модели и заполнения пропущенных значений, будем использовать столбцы 'area_total', 'building:levels', 'is_living'."
      ],
      "metadata": {
        "id": "9ZitseANRQI0"
      }
    },
    {
      "cell_type": "code",
      "source": [
        "features = ['is_living', 'building:levels', 'area_total']\n",
        "\n",
        "data_with_nan = buildings[buildings['area_residential'].isnull()]\n",
        "data_without_nan = buildings.dropna(subset=['area_residential'])\n",
        "\n",
        "X_train, X_test, y_train, y_test = train_test_split(\n",
        "    data_without_nan[features], data_without_nan['area_residential'], test_size=0.2, random_state=100\n",
        ")\n",
        "\n",
        "model = RandomForestRegressor(random_state=100)\n",
        "model.fit(X_train, y_train)\n",
        "\n",
        "predicted_area_residential = model.predict(data_with_nan[features])\n",
        "\n",
        "buildings.loc[buildings['area_residential'].isnull(), 'area_residential'] = predicted_area_residential"
      ],
      "metadata": {
        "id": "DGkZlzP1RPEI"
      },
      "execution_count": 16,
      "outputs": []
    },
    {
      "cell_type": "code",
      "source": [
        "print(buildings['area_residential'].isnull().sum())"
      ],
      "metadata": {
        "colab": {
          "base_uri": "https://localhost:8080/"
        },
        "id": "BciIb0gBR6Fv",
        "outputId": "a63ef17a-dccb-4e03-c313-2679ec17606d"
      },
      "execution_count": 17,
      "outputs": [
        {
          "output_type": "stream",
          "name": "stdout",
          "text": [
            "0\n"
          ]
        }
      ]
    },
    {
      "cell_type": "markdown",
      "source": [
        "Моделька отработала корректно"
      ],
      "metadata": {
        "id": "TZN1FiwdZDoe"
      }
    },
    {
      "cell_type": "code",
      "source": [
        "examination = buildings[(buildings['is_living'] == 'False') & (buildings['people'] != 0)]\n",
        "examination"
      ],
      "metadata": {
        "colab": {
          "base_uri": "https://localhost:8080/",
          "height": 53
        },
        "id": "kw5FAYDzYqDu",
        "outputId": "6168a7be-6e16-44bb-8c0b-7e05790ddb8b"
      },
      "execution_count": 19,
      "outputs": [
        {
          "output_type": "execute_result",
          "data": {
            "text/plain": [
              "Empty GeoDataFrame\n",
              "Columns: [id, is_living, building, building:levels, area_residential, people, area_total, geometry]\n",
              "Index: []"
            ],
            "text/html": [
              "\n",
              "  <div id=\"df-4f61a0f5-f1a8-478a-8a0b-3cf6463d0ba7\" class=\"colab-df-container\">\n",
              "    <div>\n",
              "<style scoped>\n",
              "    .dataframe tbody tr th:only-of-type {\n",
              "        vertical-align: middle;\n",
              "    }\n",
              "\n",
              "    .dataframe tbody tr th {\n",
              "        vertical-align: top;\n",
              "    }\n",
              "\n",
              "    .dataframe thead th {\n",
              "        text-align: right;\n",
              "    }\n",
              "</style>\n",
              "<table border=\"1\" class=\"dataframe\">\n",
              "  <thead>\n",
              "    <tr style=\"text-align: right;\">\n",
              "      <th></th>\n",
              "      <th>id</th>\n",
              "      <th>is_living</th>\n",
              "      <th>building</th>\n",
              "      <th>building:levels</th>\n",
              "      <th>area_residential</th>\n",
              "      <th>people</th>\n",
              "      <th>area_total</th>\n",
              "      <th>geometry</th>\n",
              "    </tr>\n",
              "  </thead>\n",
              "  <tbody>\n",
              "  </tbody>\n",
              "</table>\n",
              "</div>\n",
              "    <div class=\"colab-df-buttons\">\n",
              "\n",
              "  <div class=\"colab-df-container\">\n",
              "    <button class=\"colab-df-convert\" onclick=\"convertToInteractive('df-4f61a0f5-f1a8-478a-8a0b-3cf6463d0ba7')\"\n",
              "            title=\"Convert this dataframe to an interactive table.\"\n",
              "            style=\"display:none;\">\n",
              "\n",
              "  <svg xmlns=\"http://www.w3.org/2000/svg\" height=\"24px\" viewBox=\"0 -960 960 960\">\n",
              "    <path d=\"M120-120v-720h720v720H120Zm60-500h600v-160H180v160Zm220 220h160v-160H400v160Zm0 220h160v-160H400v160ZM180-400h160v-160H180v160Zm440 0h160v-160H620v160ZM180-180h160v-160H180v160Zm440 0h160v-160H620v160Z\"/>\n",
              "  </svg>\n",
              "    </button>\n",
              "\n",
              "  <style>\n",
              "    .colab-df-container {\n",
              "      display:flex;\n",
              "      gap: 12px;\n",
              "    }\n",
              "\n",
              "    .colab-df-convert {\n",
              "      background-color: #E8F0FE;\n",
              "      border: none;\n",
              "      border-radius: 50%;\n",
              "      cursor: pointer;\n",
              "      display: none;\n",
              "      fill: #1967D2;\n",
              "      height: 32px;\n",
              "      padding: 0 0 0 0;\n",
              "      width: 32px;\n",
              "    }\n",
              "\n",
              "    .colab-df-convert:hover {\n",
              "      background-color: #E2EBFA;\n",
              "      box-shadow: 0px 1px 2px rgba(60, 64, 67, 0.3), 0px 1px 3px 1px rgba(60, 64, 67, 0.15);\n",
              "      fill: #174EA6;\n",
              "    }\n",
              "\n",
              "    .colab-df-buttons div {\n",
              "      margin-bottom: 4px;\n",
              "    }\n",
              "\n",
              "    [theme=dark] .colab-df-convert {\n",
              "      background-color: #3B4455;\n",
              "      fill: #D2E3FC;\n",
              "    }\n",
              "\n",
              "    [theme=dark] .colab-df-convert:hover {\n",
              "      background-color: #434B5C;\n",
              "      box-shadow: 0px 1px 3px 1px rgba(0, 0, 0, 0.15);\n",
              "      filter: drop-shadow(0px 1px 2px rgba(0, 0, 0, 0.3));\n",
              "      fill: #FFFFFF;\n",
              "    }\n",
              "  </style>\n",
              "\n",
              "    <script>\n",
              "      const buttonEl =\n",
              "        document.querySelector('#df-4f61a0f5-f1a8-478a-8a0b-3cf6463d0ba7 button.colab-df-convert');\n",
              "      buttonEl.style.display =\n",
              "        google.colab.kernel.accessAllowed ? 'block' : 'none';\n",
              "\n",
              "      async function convertToInteractive(key) {\n",
              "        const element = document.querySelector('#df-4f61a0f5-f1a8-478a-8a0b-3cf6463d0ba7');\n",
              "        const dataTable =\n",
              "          await google.colab.kernel.invokeFunction('convertToInteractive',\n",
              "                                                    [key], {});\n",
              "        if (!dataTable) return;\n",
              "\n",
              "        const docLinkHtml = 'Like what you see? Visit the ' +\n",
              "          '<a target=\"_blank\" href=https://colab.research.google.com/notebooks/data_table.ipynb>data table notebook</a>'\n",
              "          + ' to learn more about interactive tables.';\n",
              "        element.innerHTML = '';\n",
              "        dataTable['output_type'] = 'display_data';\n",
              "        await google.colab.output.renderOutput(dataTable, element);\n",
              "        const docLink = document.createElement('div');\n",
              "        docLink.innerHTML = docLinkHtml;\n",
              "        element.appendChild(docLink);\n",
              "      }\n",
              "    </script>\n",
              "  </div>\n",
              "\n",
              "    </div>\n",
              "  </div>\n"
            ]
          },
          "metadata": {},
          "execution_count": 19
        }
      ]
    },
    {
      "cell_type": "markdown",
      "source": [
        "Унифицируем типы переменных"
      ],
      "metadata": {
        "id": "ZI6d6huX8pBU"
      }
    },
    {
      "cell_type": "code",
      "source": [
        "buildings['building:levels'] = buildings['building:levels'].astype(int)\n",
        "buildings['people'] = buildings['people'].astype(int)\n",
        "buildings['area_total'] = buildings['area_total'].astype(int)\n",
        "buildings['area_residential'] = buildings['area_residential'].astype(int)"
      ],
      "metadata": {
        "id": "tCg3xxcY8eWA"
      },
      "execution_count": 20,
      "outputs": []
    },
    {
      "cell_type": "code",
      "source": [
        "print(buildings.dtypes)"
      ],
      "metadata": {
        "colab": {
          "base_uri": "https://localhost:8080/"
        },
        "id": "fz7IALoq8s62",
        "outputId": "1682c420-9f49-4afe-df60-68f2949b04e0"
      },
      "execution_count": 21,
      "outputs": [
        {
          "output_type": "stream",
          "name": "stdout",
          "text": [
            "id                    object\n",
            "is_living               bool\n",
            "building              object\n",
            "building:levels        int64\n",
            "area_residential       int64\n",
            "people                 int64\n",
            "area_total             int64\n",
            "geometry            geometry\n",
            "dtype: object\n"
          ]
        }
      ]
    },
    {
      "cell_type": "markdown",
      "source": [
        "Проверим распределение признаков жилой и нежилой застройке: как видно из графика количество зданий обоих типов примерно одинаковое"
      ],
      "metadata": {
        "id": "f874WlHB-KBj"
      }
    },
    {
      "cell_type": "code",
      "source": [
        "plt.figure(figsize=(8, 6))\n",
        "sns.countplot(x='is_living', data=buildings)\n",
        "plt.title('Распределение is_living')\n",
        "plt.show()"
      ],
      "metadata": {
        "colab": {
          "base_uri": "https://localhost:8080/",
          "height": 564
        },
        "id": "vwTEg-nc9Tfe",
        "outputId": "e775e348-3771-4765-d1ee-bac5ce9c32c2"
      },
      "execution_count": 22,
      "outputs": [
        {
          "output_type": "display_data",
          "data": {
            "text/plain": [
              "<Figure size 800x600 with 1 Axes>"
            ],
            "image/png": "[encoded data removed]"
          },
          "metadata": {}
        }
      ]
    },
    {
      "cell_type": "markdown",
      "source": [
        "Посмотрим на сервисы"
      ],
      "metadata": {
        "id": "VfJ0Fuv_BWYa"
      }
    },
    {
      "cell_type": "code",
      "source": [
        "top_buildings = buildings['building'].value_counts().head(15)\n",
        "\n",
        "plt.figure(figsize=(12, 8))\n",
        "sns.barplot(x=top_buildings.index, y=top_buildings.values)\n",
        "plt.title('Топ 15 самых частотных значений в столбце building')\n",
        "plt.xlabel('Значение building')\n",
        "plt.ylabel('Количество')\n",
        "plt.show()"
      ],
      "metadata": {
        "colab": {
          "base_uri": "https://localhost:8080/",
          "height": 713
        },
        "id": "K_NPjJq9-pHt",
        "outputId": "8ffaaa39-5375-4f00-a3b2-ddf35f1daf20"
      },
      "execution_count": 23,
      "outputs": [
        {
          "output_type": "display_data",
          "data": {
            "text/plain": [
              "<Figure size 1200x800 with 1 Axes>"
            ],
            "image/png": "[encoded data removed]"
          },
          "metadata": {}
        }
      ]
    },
    {
      "cell_type": "code",
      "source": [
        "top_buildings = buildings['building'].value_counts().head(15)\n",
        "\n",
        "print(\"Топ 15 самых частотных значений в столбце 'building':\")\n",
        "print(top_buildings)"
      ],
      "metadata": {
        "colab": {
          "base_uri": "https://localhost:8080/"
        },
        "id": "TKYmqpkzBSCD",
        "outputId": "96d44cef-bf9d-47ab-bd88-e412ce3e613f"
      },
      "execution_count": 24,
      "outputs": [
        {
          "output_type": "stream",
          "name": "stdout",
          "text": [
            "Топ 15 самых частотных значений в столбце 'building':\n",
            "yes             29694\n",
            "apartments       5881\n",
            "house            5392\n",
            "garages          1100\n",
            "industrial        810\n",
            "service           611\n",
            "garage            593\n",
            "roof              380\n",
            "kindergarten      338\n",
            "retail            303\n",
            "commercial        283\n",
            "residential       262\n",
            "office            261\n",
            "detached          258\n",
            "school            218\n",
            "Name: building, dtype: int64\n"
          ]
        }
      ]
    },
    {
      "cell_type": "markdown",
      "source": [
        "Посмотрим, какую площадь занимают детские сады, а какую школы"
      ],
      "metadata": {
        "id": "QKPkaSJBCmkF"
      }
    },
    {
      "cell_type": "code",
      "source": [
        "schools_and_kindergartens = buildings[buildings['building'].isin(['school', 'kindergarten'])]\n",
        "\n",
        "total_area_by_building = schools_and_kindergartens.groupby('building')['area_total'].sum().reset_index()\n",
        "\n",
        "plt.figure(figsize=(8, 6))\n",
        "sns.barplot(x='building', y='area_total', data=total_area_by_building)\n",
        "plt.title('Общая площадь для школ и детских садов')\n",
        "plt.xlabel('Тип здания')\n",
        "plt.ylabel('Общая площадь (кв. м)')\n",
        "plt.show()"
      ],
      "metadata": {
        "colab": {
          "base_uri": "https://localhost:8080/",
          "height": 564
        },
        "id": "KVNFWBfZBsxM",
        "outputId": "28c86daf-7c18-4242-c037-35ee061822eb"
      },
      "execution_count": 25,
      "outputs": [
        {
          "output_type": "display_data",
          "data": {
            "text/plain": [
              "<Figure size 800x600 with 1 Axes>"
            ],
            "image/png": "[encoded data removed]"
          },
          "metadata": {}
        }
      ]
    },
    {
      "cell_type": "markdown",
      "source": [
        "Посморим, как распределяются школы по площади"
      ],
      "metadata": {
        "id": "CI7cXx6bELEi"
      }
    },
    {
      "cell_type": "code",
      "source": [
        "schools_data = buildings[buildings['building'] == 'school']\n",
        "\n",
        "plt.figure(figsize=(10, 6))\n",
        "sns.histplot(schools_data['area_total'], bins=30, kde=False)\n",
        "plt.title('Распределение площади школ')\n",
        "plt.xlabel('Площадь (кв. м)')\n",
        "plt.ylabel('Частота')\n",
        "plt.show()\n",
        "\n",
        "plt.figure(figsize=(10, 6))\n",
        "sns.kdeplot(schools_data['area_total'], fill=True)\n",
        "plt.title('Kernel Density Plot для площади школ')\n",
        "plt.xlabel('Площадь (кв. м)')\n",
        "plt.ylabel('Плотность')\n",
        "plt.show()"
      ],
      "metadata": {
        "colab": {
          "base_uri": "https://localhost:8080/",
          "height": 1000
        },
        "id": "zn5TwQC_EFQJ",
        "outputId": "102dd6d7-3b91-4466-aa60-605c1364988c"
      },
      "execution_count": 26,
      "outputs": [
        {
          "output_type": "display_data",
          "data": {
            "text/plain": [
              "<Figure size 1000x600 with 1 Axes>"
            ],
            "image/png": "[encoded data removed]"
          },
          "metadata": {}
        },
        {
          "output_type": "display_data",
          "data": {
            "text/plain": [
              "<Figure size 1000x600 with 1 Axes>"
            ],
            "image/png": "[encoded data removed]"
          },
          "metadata": {}
        }
      ]
    },
    {
      "cell_type": "markdown",
      "source": [
        "Посмотрим на распределение этажности"
      ],
      "metadata": {
        "id": "4eA8NGYLDjXZ"
      }
    },
    {
      "cell_type": "code",
      "source": [
        "plt.figure(figsize=(10, 6))\n",
        "sns.countplot(x='building:levels', data=buildings)\n",
        "plt.title('Распределение этажности')\n",
        "plt.xlabel('Количество уровней')\n",
        "plt.ylabel('Частота')\n",
        "plt.show()"
      ],
      "metadata": {
        "colab": {
          "base_uri": "https://localhost:8080/",
          "height": 564
        },
        "id": "G4h9-4vvDaZ-",
        "outputId": "45542ff8-a6aa-4895-fd83-7f381ddf32aa"
      },
      "execution_count": 27,
      "outputs": [
        {
          "output_type": "display_data",
          "data": {
            "text/plain": [
              "<Figure size 1000x600 with 1 Axes>"
            ],
            "image/png": "[encoded data removed]"
          },
          "metadata": {}
        }
      ]
    },
    {
      "cell_type": "code",
      "source": [
        "map_explore = buildings.explore(cmap='cool', column='is_living')\n",
        "map_explore.save(\"map_explore.html\")"
      ],
      "metadata": {
        "id": "GYcAhHx-FuGy"
      },
      "execution_count": 28,
      "outputs": []
    },
    {
      "cell_type": "code",
      "source": [
        "buildings.to_file('Buildings_output.geojson', driver='GeoJSON')"
      ],
      "metadata": {
        "id": "D7RNos9VX-eU"
      },
      "execution_count": 30,
      "outputs": []
    }
  ]
}