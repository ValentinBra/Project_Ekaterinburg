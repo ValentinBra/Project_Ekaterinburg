{
  "nbformat": 4,
  "nbformat_minor": 0,
  "metadata": {
    "colab": {
      "provenance": []
    },
    "kernelspec": {
      "name": "python3",
      "display_name": "Python 3"
    },
    "language_info": {
      "name": "python"
    }
  },
  "cells": [
    {
      "cell_type": "markdown",
      "source": [
        "#Установка CityGeoTools"
      ],
      "metadata": {
        "id": "gvD6j5s3thKJ"
      }
    },
    {
      "cell_type": "code",
      "source": [
        "!git clone https://github.com/iduprojects/CityGeoTools"
      ],
      "metadata": {
        "colab": {
          "base_uri": "https://localhost:8080/"
        },
        "id": "rttH2HWYnfGP",
        "outputId": "1d0338a4-2499-4475-cd26-863894213017"
      },
      "execution_count": 4,
      "outputs": [
        {
          "output_type": "stream",
          "name": "stdout",
          "text": [
            "Cloning into 'CityGeoTools'...\n",
            "remote: Enumerating objects: 2641, done.\u001b[K\n",
            "remote: Counting objects: 100% (896/896), done.\u001b[K\n",
            "remote: Compressing objects: 100% (347/347), done.\u001b[K\n",
            "remote: Total 2641 (delta 597), reused 720 (delta 545), pack-reused 1745\u001b[K\n",
            "Receiving objects: 100% (2641/2641), 66.01 MiB | 20.15 MiB/s, done.\n",
            "Resolving deltas: 100% (1822/1822), done.\n"
          ]
        }
      ]
    },
    {
      "cell_type": "code",
      "source": [
        "!pip install -r /content/CityGeoTools/metrics/requirements.txt"
      ],
      "metadata": {
        "colab": {
          "base_uri": "https://localhost:8080/"
        },
        "id": "_FFMYpecsgs5",
        "outputId": "1ce78b7d-7fc1-4c1d-c0ba-da673db666da"
      },
      "execution_count": 11,
      "outputs": [
        {
          "output_type": "stream",
          "name": "stdout",
          "text": [
            "Collecting coloredlogs==15.0.1 (from -r /content/CityGeoTools/metrics/requirements.txt (line 1))\n",
            "  Downloading coloredlogs-15.0.1-py2.py3-none-any.whl (46 kB)\n",
            "\u001b[2K     \u001b[90m━━━━━━━━━━━━━━━━━━━━━━━━━━━━━━━━━━━━━━━━\u001b[0m \u001b[32m46.0/46.0 kB\u001b[0m \u001b[31m1.2 MB/s\u001b[0m eta \u001b[36m0:00:00\u001b[0m\n",
            "\u001b[?25hCollecting fastapi==0.87.0 (from -r /content/CityGeoTools/metrics/requirements.txt (line 2))\n",
            "  Downloading fastapi-0.87.0-py3-none-any.whl (55 kB)\n",
            "\u001b[2K     \u001b[90m━━━━━━━━━━━━━━━━━━━━━━━━━━━━━━━━━━━━━━━━\u001b[0m \u001b[32m55.5/55.5 kB\u001b[0m \u001b[31m4.3 MB/s\u001b[0m eta \u001b[36m0:00:00\u001b[0m\n",
            "\u001b[?25hCollecting scikit-learn==1.1.3 (from -r /content/CityGeoTools/metrics/requirements.txt (line 3))\n",
            "  Downloading scikit_learn-1.1.3-cp310-cp310-manylinux_2_17_x86_64.manylinux2014_x86_64.whl (30.5 MB)\n",
            "\u001b[2K     \u001b[90m━━━━━━━━━━━━━━━━━━━━━━━━━━━━━━━━━━━━━━━━\u001b[0m \u001b[32m30.5/30.5 MB\u001b[0m \u001b[31m31.9 MB/s\u001b[0m eta \u001b[36m0:00:00\u001b[0m\n",
            "\u001b[?25hCollecting SQLAlchemy==1.4.25 (from -r /content/CityGeoTools/metrics/requirements.txt (line 4))\n",
            "  Downloading SQLAlchemy-1.4.25.tar.gz (7.8 MB)\n",
            "\u001b[2K     \u001b[90m━━━━━━━━━━━━━━━━━━━━━━━━━━━━━━━━━━━━━━━━\u001b[0m \u001b[32m7.8/7.8 MB\u001b[0m \u001b[31m65.8 MB/s\u001b[0m eta \u001b[36m0:00:00\u001b[0m\n",
            "\u001b[?25h  Preparing metadata (setup.py) ... \u001b[?25l\u001b[?25hdone\n",
            "Collecting geojson_pydantic==0.3.3 (from -r /content/CityGeoTools/metrics/requirements.txt (line 5))\n",
            "  Downloading geojson-pydantic-0.3.3.tar.gz (8.6 kB)\n",
            "  Preparing metadata (setup.py) ... \u001b[?25l\u001b[?25hdone\n",
            "Collecting geopandas==0.12.1 (from -r /content/CityGeoTools/metrics/requirements.txt (line 6))\n",
            "  Downloading geopandas-0.12.1-py3-none-any.whl (1.1 MB)\n",
            "\u001b[2K     \u001b[90m━━━━━━━━━━━━━━━━━━━━━━━━━━━━━━━━━━━━━━━━\u001b[0m \u001b[32m1.1/1.1 MB\u001b[0m \u001b[31m58.9 MB/s\u001b[0m eta \u001b[36m0:00:00\u001b[0m\n",
            "\u001b[?25hCollecting joblib==1.1.0 (from -r /content/CityGeoTools/metrics/requirements.txt (line 7))\n",
            "  Downloading joblib-1.1.0-py2.py3-none-any.whl (306 kB)\n",
            "\u001b[2K     \u001b[90m━━━━━━━━━━━━━━━━━━━━━━━━━━━━━━━━━━━━━━━━\u001b[0m \u001b[32m307.0/307.0 kB\u001b[0m \u001b[31m30.4 MB/s\u001b[0m eta \u001b[36m0:00:00\u001b[0m\n",
            "\u001b[?25hCollecting jsonschema==3.2.0 (from -r /content/CityGeoTools/metrics/requirements.txt (line 8))\n",
            "  Downloading jsonschema-3.2.0-py2.py3-none-any.whl (56 kB)\n",
            "\u001b[2K     \u001b[90m━━━━━━━━━━━━━━━━━━━━━━━━━━━━━━━━━━━━━━━━\u001b[0m \u001b[32m56.3/56.3 kB\u001b[0m \u001b[31m6.8 MB/s\u001b[0m eta \u001b[36m0:00:00\u001b[0m\n",
            "\u001b[?25hCollecting matplotlib==3.6.1 (from -r /content/CityGeoTools/metrics/requirements.txt (line 9))\n",
            "  Downloading matplotlib-3.6.1-cp310-cp310-manylinux_2_17_x86_64.manylinux2014_x86_64.whl (11.8 MB)\n",
            "\u001b[2K     \u001b[90m━━━━━━━━━━━━━━━━━━━━━━━━━━━━━━━━━━━━━━━━\u001b[0m \u001b[32m11.8/11.8 MB\u001b[0m \u001b[31m93.5 MB/s\u001b[0m eta \u001b[36m0:00:00\u001b[0m\n",
            "\u001b[?25hCollecting momepy==0.5.3 (from -r /content/CityGeoTools/metrics/requirements.txt (line 10))\n",
            "  Downloading momepy-0.5.3-py3-none-any.whl (243 kB)\n",
            "\u001b[2K     \u001b[90m━━━━━━━━━━━━━━━━━━━━━━━━━━━━━━━━━━━━━━━━\u001b[0m \u001b[32m243.0/243.0 kB\u001b[0m \u001b[31m24.4 MB/s\u001b[0m eta \u001b[36m0:00:00\u001b[0m\n",
            "\u001b[?25hCollecting networkit==10.0 (from -r /content/CityGeoTools/metrics/requirements.txt (line 11))\n",
            "  Downloading networkit-10.0-cp310-cp310-manylinux_2_12_x86_64.manylinux2010_x86_64.whl (9.8 MB)\n",
            "\u001b[2K     \u001b[90m━━━━━━━━━━━━━━━━━━━━━━━━━━━━━━━━━━━━━━━━\u001b[0m \u001b[32m9.8/9.8 MB\u001b[0m \u001b[31m23.1 MB/s\u001b[0m eta \u001b[36m0:00:00\u001b[0m\n",
            "\u001b[?25hCollecting networkx==2.8.7 (from -r /content/CityGeoTools/metrics/requirements.txt (line 12))\n",
            "  Downloading networkx-2.8.7-py3-none-any.whl (2.0 MB)\n",
            "\u001b[2K     \u001b[90m━━━━━━━━━━━━━━━━━━━━━━━━━━━━━━━━━━━━━━━━\u001b[0m \u001b[32m2.0/2.0 MB\u001b[0m \u001b[31m77.4 MB/s\u001b[0m eta \u001b[36m0:00:00\u001b[0m\n",
            "\u001b[?25hCollecting numpy==1.22.4 (from -r /content/CityGeoTools/metrics/requirements.txt (line 13))\n",
            "  Downloading numpy-1.22.4-cp310-cp310-manylinux_2_17_x86_64.manylinux2014_x86_64.whl (16.8 MB)\n",
            "\u001b[2K     \u001b[90m━━━━━━━━━━━━━━━━━━━━━━━━━━━━━━━━━━━━━━━━\u001b[0m \u001b[32m16.8/16.8 MB\u001b[0m \u001b[31m35.4 MB/s\u001b[0m eta \u001b[36m0:00:00\u001b[0m\n",
            "\u001b[?25hCollecting osm2geojson==0.2.0 (from -r /content/CityGeoTools/metrics/requirements.txt (line 14))\n",
            "  Downloading osm2geojson-0.2.0.tar.gz (13 kB)\n",
            "  Preparing metadata (setup.py) ... \u001b[?25l\u001b[?25hdone\n",
            "Collecting osmnx==1.2.2 (from -r /content/CityGeoTools/metrics/requirements.txt (line 15))\n",
            "  Downloading osmnx-1.2.2-py2.py3-none-any.whl (92 kB)\n",
            "\u001b[2K     \u001b[90m━━━━━━━━━━━━━━━━━━━━━━━━━━━━━━━━━━━━━━━━\u001b[0m \u001b[32m92.5/92.5 kB\u001b[0m \u001b[31m10.5 MB/s\u001b[0m eta \u001b[36m0:00:00\u001b[0m\n",
            "\u001b[?25hCollecting pandas==1.5.1 (from -r /content/CityGeoTools/metrics/requirements.txt (line 16))\n",
            "  Downloading pandas-1.5.1-cp310-cp310-manylinux_2_17_x86_64.manylinux2014_x86_64.whl (12.1 MB)\n",
            "\u001b[2K     \u001b[90m━━━━━━━━━━━━━━━━━━━━━━━━━━━━━━━━━━━━━━━━\u001b[0m \u001b[32m12.1/12.1 MB\u001b[0m \u001b[31m98.6 MB/s\u001b[0m eta \u001b[36m0:00:00\u001b[0m\n",
            "\u001b[?25hCollecting pca==2.0.5 (from -r /content/CityGeoTools/metrics/requirements.txt (line 17))\n",
            "  Downloading pca-2.0.5-py3-none-any.whl (35 kB)\n",
            "Collecting PuLP==2.6.0 (from -r /content/CityGeoTools/metrics/requirements.txt (line 18))\n",
            "  Downloading PuLP-2.6.0-py3-none-any.whl (14.2 MB)\n",
            "\u001b[2K     \u001b[90m━━━━━━━━━━━━━━━━━━━━━━━━━━━━━━━━━━━━━━━━\u001b[0m \u001b[32m14.2/14.2 MB\u001b[0m \u001b[31m87.0 MB/s\u001b[0m eta \u001b[36m0:00:00\u001b[0m\n",
            "\u001b[?25hCollecting pydantic==1.9.1 (from -r /content/CityGeoTools/metrics/requirements.txt (line 19))\n",
            "  Downloading pydantic-1.9.1-cp310-cp310-manylinux_2_17_x86_64.manylinux2014_x86_64.whl (12.0 MB)\n",
            "\u001b[2K     \u001b[90m━━━━━━━━━━━━━━━━━━━━━━━━━━━━━━━━━━━━━━━━\u001b[0m \u001b[32m12.0/12.0 MB\u001b[0m \u001b[31m99.6 MB/s\u001b[0m eta \u001b[36m0:00:00\u001b[0m\n",
            "\u001b[?25hCollecting pyproj==3.4.0 (from -r /content/CityGeoTools/metrics/requirements.txt (line 20))\n",
            "  Downloading pyproj-3.4.0-cp310-cp310-manylinux_2_17_x86_64.manylinux2014_x86_64.whl (7.7 MB)\n",
            "\u001b[2K     \u001b[90m━━━━━━━━━━━━━━━━━━━━━━━━━━━━━━━━━━━━━━━━\u001b[0m \u001b[32m7.7/7.7 MB\u001b[0m \u001b[31m98.4 MB/s\u001b[0m eta \u001b[36m0:00:00\u001b[0m\n",
            "\u001b[?25hCollecting pytest==7.1.1 (from -r /content/CityGeoTools/metrics/requirements.txt (line 21))\n",
            "  Downloading pytest-7.1.1-py3-none-any.whl (297 kB)\n",
            "\u001b[2K     \u001b[90m━━━━━━━━━━━━━━━━━━━━━━━━━━━━━━━━━━━━━━━━\u001b[0m \u001b[32m297.0/297.0 kB\u001b[0m \u001b[31m30.3 MB/s\u001b[0m eta \u001b[36m0:00:00\u001b[0m\n",
            "\u001b[?25hCollecting psycopg2==2.9.3 (from -r /content/CityGeoTools/metrics/requirements.txt (line 22))\n",
            "  Downloading psycopg2-2.9.3.tar.gz (380 kB)\n",
            "\u001b[2K     \u001b[90m━━━━━━━━━━━━━━━━━━━━━━━━━━━━━━━━━━━━━━━━\u001b[0m \u001b[32m380.6/380.6 kB\u001b[0m \u001b[31m31.8 MB/s\u001b[0m eta \u001b[36m0:00:00\u001b[0m\n",
            "\u001b[?25h  Preparing metadata (setup.py) ... \u001b[?25l\u001b[?25hdone\n",
            "Collecting requests==2.28.1 (from -r /content/CityGeoTools/metrics/requirements.txt (line 23))\n",
            "  Downloading requests-2.28.1-py3-none-any.whl (62 kB)\n",
            "\u001b[2K     \u001b[90m━━━━━━━━━━━━━━━━━━━━━━━━━━━━━━━━━━━━━━━━\u001b[0m \u001b[32m62.8/62.8 kB\u001b[0m \u001b[31m7.5 MB/s\u001b[0m eta \u001b[36m0:00:00\u001b[0m\n",
            "\u001b[?25hCollecting rpyc==5.1.0 (from -r /content/CityGeoTools/metrics/requirements.txt (line 24))\n",
            "  Downloading rpyc-5.1.0-py3-none-any.whl (69 kB)\n",
            "\u001b[2K     \u001b[90m━━━━━━━━━━━━━━━━━━━━━━━━━━━━━━━━━━━━━━━━\u001b[0m \u001b[32m69.1/69.1 kB\u001b[0m \u001b[31m8.3 MB/s\u001b[0m eta \u001b[36m0:00:00\u001b[0m\n",
            "\u001b[?25hCollecting Rtree==1.0.1 (from -r /content/CityGeoTools/metrics/requirements.txt (line 25))\n",
            "  Downloading Rtree-1.0.1-cp310-cp310-manylinux_2_17_x86_64.manylinux2014_x86_64.whl (1.0 MB)\n",
            "\u001b[2K     \u001b[90m━━━━━━━━━━━━━━━━━━━━━━━━━━━━━━━━━━━━━━━━\u001b[0m \u001b[32m1.0/1.0 MB\u001b[0m \u001b[31m64.5 MB/s\u001b[0m eta \u001b[36m0:00:00\u001b[0m\n",
            "\u001b[?25hCollecting scipy==1.5.4 (from -r /content/CityGeoTools/metrics/requirements.txt (line 26))\n",
            "  Downloading scipy-1.5.4.tar.gz (25.2 MB)\n",
            "\u001b[2K     \u001b[90m━━━━━━━━━━━━━━━━━━━━━━━━━━━━━━━━━━━━━━━━\u001b[0m \u001b[32m25.2/25.2 MB\u001b[0m \u001b[31m25.3 MB/s\u001b[0m eta \u001b[36m0:00:00\u001b[0m\n",
            "\u001b[?25h  \u001b[1;31merror\u001b[0m: \u001b[1msubprocess-exited-with-error\u001b[0m\n",
            "  \n",
            "  \u001b[31m×\u001b[0m \u001b[32mpip subprocess to install build dependencies\u001b[0m did not run successfully.\n",
            "  \u001b[31m│\u001b[0m exit code: \u001b[1;36m1\u001b[0m\n",
            "  \u001b[31m╰─>\u001b[0m See above for output.\n",
            "  \n",
            "  \u001b[1;35mnote\u001b[0m: This error originates from a subprocess, and is likely not a problem with pip.\n",
            "  Installing build dependencies ... \u001b[?25l\u001b[?25herror\n",
            "\u001b[1;31merror\u001b[0m: \u001b[1msubprocess-exited-with-error\u001b[0m\n",
            "\n",
            "\u001b[31m×\u001b[0m \u001b[32mpip subprocess to install build dependencies\u001b[0m did not run successfully.\n",
            "\u001b[31m│\u001b[0m exit code: \u001b[1;36m1\u001b[0m\n",
            "\u001b[31m╰─>\u001b[0m See above for output.\n",
            "\n",
            "\u001b[1;35mnote\u001b[0m: This error originates from a subprocess, and is likely not a problem with pip.\n"
          ]
        }
      ]
    },
    {
      "cell_type": "code",
      "source": [
        "!pip install scipy"
      ],
      "metadata": {
        "colab": {
          "base_uri": "https://localhost:8080/"
        },
        "id": "mo0N54tYtet6",
        "outputId": "148ad0fd-f148-4f8e-c992-85dfee7c3b18"
      },
      "execution_count": 12,
      "outputs": [
        {
          "output_type": "stream",
          "name": "stdout",
          "text": [
            "Requirement already satisfied: scipy in /usr/local/lib/python3.10/dist-packages (1.11.4)\n",
            "Requirement already satisfied: numpy<1.28.0,>=1.21.6 in /usr/local/lib/python3.10/dist-packages (from scipy) (1.23.5)\n"
          ]
        }
      ]
    },
    {
      "cell_type": "code",
      "source": [
        "!pip install rpyc"
      ],
      "metadata": {
        "colab": {
          "base_uri": "https://localhost:8080/"
        },
        "id": "8MoupgoEt9ra",
        "outputId": "2be1710b-c01c-46fc-ce85-726c506f47d5"
      },
      "execution_count": 15,
      "outputs": [
        {
          "output_type": "stream",
          "name": "stdout",
          "text": [
            "Collecting rpyc\n",
            "  Downloading rpyc-5.3.1-py3-none-any.whl (74 kB)\n",
            "\u001b[2K     \u001b[90m━━━━━━━━━━━━━━━━━━━━━━━━━━━━━━━━━━━━━━━━\u001b[0m \u001b[32m74.0/74.0 kB\u001b[0m \u001b[31m2.0 MB/s\u001b[0m eta \u001b[36m0:00:00\u001b[0m\n",
            "\u001b[?25hCollecting plumbum (from rpyc)\n",
            "  Downloading plumbum-1.8.2-py3-none-any.whl (127 kB)\n",
            "\u001b[2K     \u001b[90m━━━━━━━━━━━━━━━━━━━━━━━━━━━━━━━━━━━━━━━━\u001b[0m \u001b[32m127.0/127.0 kB\u001b[0m \u001b[31m8.2 MB/s\u001b[0m eta \u001b[36m0:00:00\u001b[0m\n",
            "\u001b[?25hInstalling collected packages: plumbum, rpyc\n",
            "Successfully installed plumbum-1.8.2 rpyc-5.3.1\n"
          ]
        }
      ]
    },
    {
      "cell_type": "code",
      "source": [
        "!pip install networkit"
      ],
      "metadata": {
        "colab": {
          "base_uri": "https://localhost:8080/"
        },
        "id": "AmEKuKRuuF1Q",
        "outputId": "ca393401-c343-43b2-c92f-ea5bb5ba6f52"
      },
      "execution_count": 17,
      "outputs": [
        {
          "output_type": "stream",
          "name": "stdout",
          "text": [
            "Collecting networkit\n",
            "  Downloading networkit-10.1-cp310-cp310-manylinux_2_12_x86_64.manylinux2010_x86_64.whl (9.8 MB)\n",
            "\u001b[2K     \u001b[90m━━━━━━━━━━━━━━━━━━━━━━━━━━━━━━━━━━━━━━━━\u001b[0m \u001b[32m9.8/9.8 MB\u001b[0m \u001b[31m48.9 MB/s\u001b[0m eta \u001b[36m0:00:00\u001b[0m\n",
            "\u001b[?25hRequirement already satisfied: scipy in /usr/local/lib/python3.10/dist-packages (from networkit) (1.11.4)\n",
            "Requirement already satisfied: numpy in /usr/local/lib/python3.10/dist-packages (from networkit) (1.23.5)\n",
            "Installing collected packages: networkit\n",
            "Successfully installed networkit-10.1\n"
          ]
        }
      ]
    },
    {
      "cell_type": "code",
      "source": [
        "import sys\n",
        "import os\n",
        "import numpy as np\n",
        "import geopandas as gpd\n",
        "from CityGeoTools.metrics.data import CityInformationModel as BaseModel\n",
        "import pandas as pd\n",
        "from sklearn.impute import SimpleImputer\n",
        "from sklearn.compose import ColumnTransformer\n",
        "from sklearn.pipeline import Pipeline"
      ],
      "metadata": {
        "id": "PHVD8SoIt3ln"
      },
      "execution_count": 40,
      "outputs": []
    },
    {
      "cell_type": "markdown",
      "source": [
        "#1 Задание"
      ],
      "metadata": {
        "id": "mopoOmhqtoiz"
      }
    },
    {
      "cell_type": "code",
      "source": [
        "city_model = BaseModel.CityInformationModel(city_name=\"Ekaterinburg\", city_crs=32640, cwd=\"CityGeoTools\")"
      ],
      "metadata": {
        "id": "TIgxwscFt0aN"
      },
      "execution_count": 19,
      "outputs": []
    },
    {
      "cell_type": "markdown",
      "source": [
        "#2 Задание"
      ],
      "metadata": {
        "id": "kVESftYt9zlV"
      }
    },
    {
      "cell_type": "code",
      "execution_count": 85,
      "metadata": {
        "id": "GuXz1wxQZ6uy"
      },
      "outputs": [],
      "source": [
        "buildings = gpd.read_file('/content/buildings.geojson')"
      ]
    },
    {
      "cell_type": "markdown",
      "source": [
        "Информация о данных"
      ],
      "metadata": {
        "id": "qSKvI1efDXVY"
      }
    },
    {
      "cell_type": "code",
      "source": [
        "buildings.info()"
      ],
      "metadata": {
        "id": "wz2hv30qCyTu"
      },
      "execution_count": null,
      "outputs": []
    },
    {
      "cell_type": "code",
      "source": [
        "buildings['is_living'].unique()"
      ],
      "metadata": {
        "colab": {
          "base_uri": "https://localhost:8080/"
        },
        "id": "Q_XbP1GDDxI-",
        "outputId": "adba086f-6fb3-40ee-d497-85f490457aaa"
      },
      "execution_count": 66,
      "outputs": [
        {
          "output_type": "execute_result",
          "data": {
            "text/plain": [
              "array([0., 1.])"
            ]
          },
          "metadata": {},
          "execution_count": 66
        }
      ]
    },
    {
      "cell_type": "markdown",
      "source": [
        "Присваиваем столбцу, определяющему жилую застройку формат bool"
      ],
      "metadata": {
        "id": "WFJLcCdvNYFQ"
      }
    },
    {
      "cell_type": "code",
      "source": [
        "buildings['is_living'] = buildings['is_living'].astype(bool)"
      ],
      "metadata": {
        "id": "_mNoFxCrEEqu"
      },
      "execution_count": 67,
      "outputs": []
    },
    {
      "cell_type": "markdown",
      "source": [
        "Удаляем ненужные столбцы"
      ],
      "metadata": {
        "id": "qptCM_qMOXZD"
      }
    },
    {
      "cell_type": "code",
      "source": [
        "columns_to_drop = ['addr:housenumber', 'area_total', 'area_residential', 'area_non_residential']\n",
        "buildings = buildings.drop(columns=columns_to_drop, errors='ignore')"
      ],
      "metadata": {
        "id": "IuInnscWOZtL"
      },
      "execution_count": 68,
      "outputs": []
    },
    {
      "cell_type": "markdown",
      "source": [
        "Проверка пропущенных значений"
      ],
      "metadata": {
        "id": "iaqevfASDc2O"
      }
    },
    {
      "cell_type": "code",
      "source": [
        "buildings.isnull().sum()"
      ],
      "metadata": {
        "id": "V_60ZQXOC47D"
      },
      "execution_count": null,
      "outputs": []
    },
    {
      "cell_type": "markdown",
      "source": [
        "Восстанавливаем численность проживающих людей.\n",
        "Для обучения модели и заполнения пропущенных значений, будем использовать столбцы 'area', 'is_living', 'building'. Для числовых столбцов будем использовать стратегию 'mean' (среднее значение), а для категориальных столбцов - 'most_frequent' (наиболее часто встречающееся значение)."
      ],
      "metadata": {
        "id": "DAdoEif7OfHk"
      }
    },
    {
      "cell_type": "code",
      "source": [
        "selected_columns = ['area', 'is_living', 'building']\n",
        "data_for_imputation = buildings[selected_columns + ['people']]\n",
        "\n",
        "numeric_features = ['area', 'is_living']\n",
        "categorical_features = ['building']\n",
        "\n",
        "numeric_transformer = SimpleImputer(strategy='mean')\n",
        "categorical_transformer = SimpleImputer(strategy='most_frequent')\n",
        "\n",
        "preprocessor = ColumnTransformer(\n",
        "    transformers=[\n",
        "        ('num', numeric_transformer, numeric_features),\n",
        "        ('cat', categorical_transformer, categorical_features)\n",
        "    ])\n",
        "\n",
        "pipeline = Pipeline(steps=[('preprocessor', preprocessor)])\n",
        "data_imputed = pipeline.fit_transform(data_for_imputation)\n",
        "\n",
        "buildings['people'] = data_imputed[:, -1]"
      ],
      "metadata": {
        "id": "dkYAZtuLGulJ"
      },
      "execution_count": 70,
      "outputs": []
    },
    {
      "cell_type": "markdown",
      "source": [
        "Проверяем пропущенные значения"
      ],
      "metadata": {
        "id": "K-tno_nHPd5P"
      }
    },
    {
      "cell_type": "code",
      "source": [
        "print(buildings['people'].isnull().sum())"
      ],
      "metadata": {
        "colab": {
          "base_uri": "https://localhost:8080/"
        },
        "id": "ysXb7mV9Pbvt",
        "outputId": "777b3d11-4bf9-4d3b-8352-f9fc0c83ea44"
      },
      "execution_count": 71,
      "outputs": [
        {
          "output_type": "stream",
          "name": "stdout",
          "text": [
            "0\n"
          ]
        }
      ]
    },
    {
      "cell_type": "markdown",
      "source": [
        "Унифицируем тип данных: приводим типы столбцов этажности зданий, площади и количества жителей к типу int\n"
      ],
      "metadata": {
        "id": "n-3Gqq0HQxAZ"
      }
    },
    {
      "cell_type": "code",
      "source": [
        "non_numeric_rows = buildings['building:levels'].apply(pd.to_numeric, errors='coerce').isna()\n",
        "print(buildings.loc[non_numeric_rows, 'building:levels'])"
      ],
      "metadata": {
        "colab": {
          "base_uri": "https://localhost:8080/"
        },
        "id": "Scu8SP3NTQ9k",
        "outputId": "305dc4a7-4779-4ac2-9b63-cee89133eecf"
      },
      "execution_count": 76,
      "outputs": [
        {
          "output_type": "stream",
          "name": "stdout",
          "text": [
            "5853    1;2\n",
            "5854    1;2\n",
            "Name: building:levels, dtype: object\n"
          ]
        }
      ]
    },
    {
      "cell_type": "code",
      "source": [
        "buildings['building:levels'] = buildings['building:levels'].str.extract('(\\d+)', expand=False)"
      ],
      "metadata": {
        "id": "Lb3r4oGFURy_"
      },
      "execution_count": 78,
      "outputs": []
    },
    {
      "cell_type": "code",
      "source": [
        "non_numeric_rows = buildings['people'].apply(pd.to_numeric, errors='coerce').isna()\n",
        "print(buildings.loc[non_numeric_rows, 'people'])"
      ],
      "metadata": {
        "colab": {
          "base_uri": "https://localhost:8080/"
        },
        "id": "3DO66lY7Vf1t",
        "outputId": "531c704f-b0e4-4d6a-9d06-92e75bce4411"
      },
      "execution_count": 83,
      "outputs": [
        {
          "output_type": "stream",
          "name": "stdout",
          "text": [
            "0           yes\n",
            "1           yes\n",
            "2           yes\n",
            "3           yes\n",
            "4           yes\n",
            "          ...  \n",
            "47937       yes\n",
            "47938       yes\n",
            "47939    retail\n",
            "47940       yes\n",
            "47941    garage\n",
            "Name: people, Length: 47942, dtype: object\n"
          ]
        }
      ]
    },
    {
      "cell_type": "code",
      "source": [
        "columns_to_convert = ['building:levels', 'area', 'people']\n",
        "\n",
        "# Используем метод astype для преобразования в int, а параметр errors='coerce' заменяет ошибки на NaN при неудачной конвертации\n",
        "buildings[columns_to_convert] = buildings[columns_to_convert].astype(int, errors='coerce')\n"
      ],
      "metadata": {
        "colab": {
          "base_uri": "https://localhost:8080/",
          "height": 368
        },
        "id": "FV0cdw_LT3Jm",
        "outputId": "f87b22fe-29f4-4d40-8e32-409c1ae83d41"
      },
      "execution_count": 79,
      "outputs": [
        {
          "output_type": "error",
          "ename": "ValueError",
          "evalue": "ignored",
          "traceback": [
            "\u001b[0;31m---------------------------------------------------------------------------\u001b[0m",
            "\u001b[0;31mValueError\u001b[0m                                Traceback (most recent call last)",
            "\u001b[0;32m<ipython-input-79-9945560b8a83>\u001b[0m in \u001b[0;36m<cell line: 4>\u001b[0;34m()\u001b[0m\n\u001b[1;32m      2\u001b[0m \u001b[0;34m\u001b[0m\u001b[0m\n\u001b[1;32m      3\u001b[0m \u001b[0;31m# Используем метод astype для преобразования в int, а параметр errors='coerce' заменяет ошибки на NaN при неудачной конвертации\u001b[0m\u001b[0;34m\u001b[0m\u001b[0;34m\u001b[0m\u001b[0m\n\u001b[0;32m----> 4\u001b[0;31m \u001b[0mbuildings\u001b[0m\u001b[0;34m[\u001b[0m\u001b[0mcolumns_to_convert\u001b[0m\u001b[0;34m]\u001b[0m \u001b[0;34m=\u001b[0m \u001b[0mbuildings\u001b[0m\u001b[0;34m[\u001b[0m\u001b[0mcolumns_to_convert\u001b[0m\u001b[0;34m]\u001b[0m\u001b[0;34m.\u001b[0m\u001b[0mastype\u001b[0m\u001b[0;34m(\u001b[0m\u001b[0mint\u001b[0m\u001b[0;34m,\u001b[0m \u001b[0merrors\u001b[0m\u001b[0;34m=\u001b[0m\u001b[0;34m'coerce'\u001b[0m\u001b[0;34m)\u001b[0m\u001b[0;34m\u001b[0m\u001b[0;34m\u001b[0m\u001b[0m\n\u001b[0m",
            "\u001b[0;32m/usr/local/lib/python3.10/dist-packages/pandas/core/generic.py\u001b[0m in \u001b[0;36mastype\u001b[0;34m(self, dtype, copy, errors)\u001b[0m\n\u001b[1;32m   6238\u001b[0m         \u001b[0;32melse\u001b[0m\u001b[0;34m:\u001b[0m\u001b[0;34m\u001b[0m\u001b[0;34m\u001b[0m\u001b[0m\n\u001b[1;32m   6239\u001b[0m             \u001b[0;31m# else, only a single dtype is given\u001b[0m\u001b[0;34m\u001b[0m\u001b[0;34m\u001b[0m\u001b[0m\n\u001b[0;32m-> 6240\u001b[0;31m             \u001b[0mnew_data\u001b[0m \u001b[0;34m=\u001b[0m \u001b[0mself\u001b[0m\u001b[0;34m.\u001b[0m\u001b[0m_mgr\u001b[0m\u001b[0;34m.\u001b[0m\u001b[0mastype\u001b[0m\u001b[0;34m(\u001b[0m\u001b[0mdtype\u001b[0m\u001b[0;34m=\u001b[0m\u001b[0mdtype\u001b[0m\u001b[0;34m,\u001b[0m \u001b[0mcopy\u001b[0m\u001b[0;34m=\u001b[0m\u001b[0mcopy\u001b[0m\u001b[0;34m,\u001b[0m \u001b[0merrors\u001b[0m\u001b[0;34m=\u001b[0m\u001b[0merrors\u001b[0m\u001b[0;34m)\u001b[0m\u001b[0;34m\u001b[0m\u001b[0;34m\u001b[0m\u001b[0m\n\u001b[0m\u001b[1;32m   6241\u001b[0m             \u001b[0;32mreturn\u001b[0m \u001b[0mself\u001b[0m\u001b[0;34m.\u001b[0m\u001b[0m_constructor\u001b[0m\u001b[0;34m(\u001b[0m\u001b[0mnew_data\u001b[0m\u001b[0;34m)\u001b[0m\u001b[0;34m.\u001b[0m\u001b[0m__finalize__\u001b[0m\u001b[0;34m(\u001b[0m\u001b[0mself\u001b[0m\u001b[0;34m,\u001b[0m \u001b[0mmethod\u001b[0m\u001b[0;34m=\u001b[0m\u001b[0;34m\"astype\"\u001b[0m\u001b[0;34m)\u001b[0m\u001b[0;34m\u001b[0m\u001b[0;34m\u001b[0m\u001b[0m\n\u001b[1;32m   6242\u001b[0m \u001b[0;34m\u001b[0m\u001b[0m\n",
            "\u001b[0;32m/usr/local/lib/python3.10/dist-packages/pandas/core/internals/managers.py\u001b[0m in \u001b[0;36mastype\u001b[0;34m(self, dtype, copy, errors)\u001b[0m\n\u001b[1;32m    446\u001b[0m \u001b[0;34m\u001b[0m\u001b[0m\n\u001b[1;32m    447\u001b[0m     \u001b[0;32mdef\u001b[0m \u001b[0mastype\u001b[0m\u001b[0;34m(\u001b[0m\u001b[0mself\u001b[0m\u001b[0;34m:\u001b[0m \u001b[0mT\u001b[0m\u001b[0;34m,\u001b[0m \u001b[0mdtype\u001b[0m\u001b[0;34m,\u001b[0m \u001b[0mcopy\u001b[0m\u001b[0;34m:\u001b[0m \u001b[0mbool\u001b[0m \u001b[0;34m=\u001b[0m \u001b[0;32mFalse\u001b[0m\u001b[0;34m,\u001b[0m \u001b[0merrors\u001b[0m\u001b[0;34m:\u001b[0m \u001b[0mstr\u001b[0m \u001b[0;34m=\u001b[0m \u001b[0;34m\"raise\"\u001b[0m\u001b[0;34m)\u001b[0m \u001b[0;34m->\u001b[0m \u001b[0mT\u001b[0m\u001b[0;34m:\u001b[0m\u001b[0;34m\u001b[0m\u001b[0;34m\u001b[0m\u001b[0m\n\u001b[0;32m--> 448\u001b[0;31m         \u001b[0;32mreturn\u001b[0m \u001b[0mself\u001b[0m\u001b[0;34m.\u001b[0m\u001b[0mapply\u001b[0m\u001b[0;34m(\u001b[0m\u001b[0;34m\"astype\"\u001b[0m\u001b[0;34m,\u001b[0m \u001b[0mdtype\u001b[0m\u001b[0;34m=\u001b[0m\u001b[0mdtype\u001b[0m\u001b[0;34m,\u001b[0m \u001b[0mcopy\u001b[0m\u001b[0;34m=\u001b[0m\u001b[0mcopy\u001b[0m\u001b[0;34m,\u001b[0m \u001b[0merrors\u001b[0m\u001b[0;34m=\u001b[0m\u001b[0merrors\u001b[0m\u001b[0;34m)\u001b[0m\u001b[0;34m\u001b[0m\u001b[0;34m\u001b[0m\u001b[0m\n\u001b[0m\u001b[1;32m    449\u001b[0m \u001b[0;34m\u001b[0m\u001b[0m\n\u001b[1;32m    450\u001b[0m     def convert(\n",
            "\u001b[0;32m/usr/local/lib/python3.10/dist-packages/pandas/core/internals/managers.py\u001b[0m in \u001b[0;36mapply\u001b[0;34m(self, f, align_keys, ignore_failures, **kwargs)\u001b[0m\n\u001b[1;32m    350\u001b[0m                     \u001b[0mapplied\u001b[0m \u001b[0;34m=\u001b[0m \u001b[0mb\u001b[0m\u001b[0;34m.\u001b[0m\u001b[0mapply\u001b[0m\u001b[0;34m(\u001b[0m\u001b[0mf\u001b[0m\u001b[0;34m,\u001b[0m \u001b[0;34m**\u001b[0m\u001b[0mkwargs\u001b[0m\u001b[0;34m)\u001b[0m\u001b[0;34m\u001b[0m\u001b[0;34m\u001b[0m\u001b[0m\n\u001b[1;32m    351\u001b[0m                 \u001b[0;32melse\u001b[0m\u001b[0;34m:\u001b[0m\u001b[0;34m\u001b[0m\u001b[0;34m\u001b[0m\u001b[0m\n\u001b[0;32m--> 352\u001b[0;31m                     \u001b[0mapplied\u001b[0m \u001b[0;34m=\u001b[0m \u001b[0mgetattr\u001b[0m\u001b[0;34m(\u001b[0m\u001b[0mb\u001b[0m\u001b[0;34m,\u001b[0m \u001b[0mf\u001b[0m\u001b[0;34m)\u001b[0m\u001b[0;34m(\u001b[0m\u001b[0;34m**\u001b[0m\u001b[0mkwargs\u001b[0m\u001b[0;34m)\u001b[0m\u001b[0;34m\u001b[0m\u001b[0;34m\u001b[0m\u001b[0m\n\u001b[0m\u001b[1;32m    353\u001b[0m             \u001b[0;32mexcept\u001b[0m \u001b[0;34m(\u001b[0m\u001b[0mTypeError\u001b[0m\u001b[0;34m,\u001b[0m \u001b[0mNotImplementedError\u001b[0m\u001b[0;34m)\u001b[0m\u001b[0;34m:\u001b[0m\u001b[0;34m\u001b[0m\u001b[0;34m\u001b[0m\u001b[0m\n\u001b[1;32m    354\u001b[0m                 \u001b[0;32mif\u001b[0m \u001b[0;32mnot\u001b[0m \u001b[0mignore_failures\u001b[0m\u001b[0;34m:\u001b[0m\u001b[0;34m\u001b[0m\u001b[0;34m\u001b[0m\u001b[0m\n",
            "\u001b[0;32m/usr/local/lib/python3.10/dist-packages/pandas/core/internals/blocks.py\u001b[0m in \u001b[0;36mastype\u001b[0;34m(self, dtype, copy, errors)\u001b[0m\n\u001b[1;32m    524\u001b[0m         \u001b[0mvalues\u001b[0m \u001b[0;34m=\u001b[0m \u001b[0mself\u001b[0m\u001b[0;34m.\u001b[0m\u001b[0mvalues\u001b[0m\u001b[0;34m\u001b[0m\u001b[0;34m\u001b[0m\u001b[0m\n\u001b[1;32m    525\u001b[0m \u001b[0;34m\u001b[0m\u001b[0m\n\u001b[0;32m--> 526\u001b[0;31m         \u001b[0mnew_values\u001b[0m \u001b[0;34m=\u001b[0m \u001b[0mastype_array_safe\u001b[0m\u001b[0;34m(\u001b[0m\u001b[0mvalues\u001b[0m\u001b[0;34m,\u001b[0m \u001b[0mdtype\u001b[0m\u001b[0;34m,\u001b[0m \u001b[0mcopy\u001b[0m\u001b[0;34m=\u001b[0m\u001b[0mcopy\u001b[0m\u001b[0;34m,\u001b[0m \u001b[0merrors\u001b[0m\u001b[0;34m=\u001b[0m\u001b[0merrors\u001b[0m\u001b[0;34m)\u001b[0m\u001b[0;34m\u001b[0m\u001b[0;34m\u001b[0m\u001b[0m\n\u001b[0m\u001b[1;32m    527\u001b[0m \u001b[0;34m\u001b[0m\u001b[0m\n\u001b[1;32m    528\u001b[0m         \u001b[0mnew_values\u001b[0m \u001b[0;34m=\u001b[0m \u001b[0mmaybe_coerce_values\u001b[0m\u001b[0;34m(\u001b[0m\u001b[0mnew_values\u001b[0m\u001b[0;34m)\u001b[0m\u001b[0;34m\u001b[0m\u001b[0;34m\u001b[0m\u001b[0m\n",
            "\u001b[0;32m/usr/local/lib/python3.10/dist-packages/pandas/core/dtypes/astype.py\u001b[0m in \u001b[0;36mastype_array_safe\u001b[0;34m(values, dtype, copy, errors)\u001b[0m\n\u001b[1;32m    268\u001b[0m             \u001b[0;34mf\"{list(errors_legal_values)}. Supplied value is '{errors}'\"\u001b[0m\u001b[0;34m\u001b[0m\u001b[0;34m\u001b[0m\u001b[0m\n\u001b[1;32m    269\u001b[0m         )\n\u001b[0;32m--> 270\u001b[0;31m         \u001b[0;32mraise\u001b[0m \u001b[0mValueError\u001b[0m\u001b[0;34m(\u001b[0m\u001b[0minvalid_arg\u001b[0m\u001b[0;34m)\u001b[0m\u001b[0;34m\u001b[0m\u001b[0;34m\u001b[0m\u001b[0m\n\u001b[0m\u001b[1;32m    271\u001b[0m \u001b[0;34m\u001b[0m\u001b[0m\n\u001b[1;32m    272\u001b[0m     \u001b[0;32mif\u001b[0m \u001b[0minspect\u001b[0m\u001b[0;34m.\u001b[0m\u001b[0misclass\u001b[0m\u001b[0;34m(\u001b[0m\u001b[0mdtype\u001b[0m\u001b[0;34m)\u001b[0m \u001b[0;32mand\u001b[0m \u001b[0missubclass\u001b[0m\u001b[0;34m(\u001b[0m\u001b[0mdtype\u001b[0m\u001b[0;34m,\u001b[0m \u001b[0mExtensionDtype\u001b[0m\u001b[0;34m)\u001b[0m\u001b[0;34m:\u001b[0m\u001b[0;34m\u001b[0m\u001b[0;34m\u001b[0m\u001b[0m\n",
            "\u001b[0;31mValueError\u001b[0m: Expected value of kwarg 'errors' to be one of ['raise', 'ignore']. Supplied value is 'coerce'"
          ]
        }
      ]
    },
    {
      "cell_type": "markdown",
      "source": [
        "#3 Задание"
      ],
      "metadata": {
        "id": "6JgZp2eO-JqP"
      }
    },
    {
      "cell_type": "code",
      "source": [
        "city_model.update_layer(\"Buildings\", \"/content/building.geojson\")\n",
        "city_model.update_layer(\"Blocks\", \"/content/city_blocks.geojson\")"
      ],
      "metadata": {
        "colab": {
          "base_uri": "https://localhost:8080/"
        },
        "id": "nzfSddbFuW1V",
        "outputId": "6c7c94f3-0c39-4f0d-f1a2-12d26d590252"
      },
      "execution_count": 20,
      "outputs": [
        {
          "output_type": "stream",
          "name": "stdout",
          "text": [
            "Validation of Buildings layer...\n",
            "Buildings layer loaded successfully!\n",
            "Validation of Blocks layer...\n",
            "Blocks layer loaded successfully!\n"
          ]
        }
      ]
    },
    {
      "cell_type": "code",
      "source": [
        "print(\"All methods implemented in CityGeoTools:\\n\")\n",
        "\n",
        "all_methods = city_model.methods.get_list_of_methods()\n",
        "available_methods = city_model.methods.get_list_of_available_methods()\n",
        "\n",
        "for method in all_methods:\n",
        "    if method in available_methods:\n",
        "        print(method, \"--> available\")\n",
        "    else:\n",
        "        print(method, \"--> unavailable\")\n",
        "\n",
        "print(city_model.get_all_attributes())"
      ],
      "metadata": {
        "colab": {
          "base_uri": "https://localhost:8080/"
        },
        "id": "iYISSOTLu6Gr",
        "outputId": "5515f4be-b1cf-4e15-80bc-cfa97fc068b3"
      },
      "execution_count": 21,
      "outputs": [
        {
          "output_type": "stream",
          "name": "stdout",
          "text": [
            "All methods implemented in CityGeoTools:\n",
            "\n",
            "traffics_calculation --> unavailable\n",
            "visibility_analysis --> unavailable\n",
            "weighted_voronoi --> available\n",
            "blocks_clusterization --> unavailable\n",
            "services_clusterization --> unavailable\n",
            "spacematrix --> unavailable\n",
            "mobility_analysis --> unavailable\n",
            "diversity --> unavailable\n",
            "collocation_matrix --> unavailable\n",
            "coverage_zones --> unavailable\n",
            "master_plan --> unavailable\n",
            "blocks_accessibility --> unavailable\n",
            "{'city_name': 'Ekaterinburg', 'city_crs': 32640, 'city_id': typing.Optional[int], 'cwd': 'CityGeoTools', 'mode': 'user_mode', 'MobilityGraph': None, 'Buildings':                                                 geometry     id  is_living  \\\n",
            "0      POLYGON ((721881.179 6307103.381, 721874.689 6...  33630        0.0   \n",
            "1      POLYGON ((712039.364 6286882.658, 712043.891 6...  33637        0.0   \n",
            "2      POLYGON ((712079.507 6286902.853, 712085.440 6...  33636        0.0   \n",
            "3      POLYGON ((712199.425 6286895.112, 712205.190 6...  33635        0.0   \n",
            "4      POLYGON ((721638.532 6308281.218, 721638.334 6...  33634        0.0   \n",
            "...                                                  ...    ...        ...   \n",
            "47937  POLYGON ((719215.282 6286218.311, 719221.003 6...  33643        0.0   \n",
            "47938  POLYGON ((719415.566 6285987.289, 719421.937 6...  33642        0.0   \n",
            "47939  POLYGON ((717242.332 6298322.008, 717251.815 6...  33633        0.0   \n",
            "47940  POLYGON ((722718.454 6301067.724, 722717.749 6...  33632        0.0   \n",
            "47941  POLYGON ((722688.099 6301236.736, 722681.323 6...  33631        0.0   \n",
            "\n",
            "      addr:housenumber building building:levels  area_total  area_residential  \\\n",
            "0                   44      yes              17         0.0               0.0   \n",
            "1                 None      yes            None         0.0               0.0   \n",
            "2                 None      yes            None         0.0               0.0   \n",
            "3                 None      yes            None         0.0               0.0   \n",
            "4                 None      yes            None         0.0               0.0   \n",
            "...                ...      ...             ...         ...               ...   \n",
            "47937             None      yes            None         0.0               0.0   \n",
            "47938             None      yes            None         0.0               0.0   \n",
            "47939              103   retail               2         0.0               0.0   \n",
            "47940             None      yes            None         0.0               0.0   \n",
            "47941              47И   garage            None         0.0               0.0   \n",
            "\n",
            "       area_non_residential      area  people  \n",
            "0                       0.0   535.235     0.0  \n",
            "1                       0.0    50.564     0.0  \n",
            "2                       0.0    68.669     0.0  \n",
            "3                       0.0    47.816     0.0  \n",
            "4                       0.0     8.432     0.0  \n",
            "...                     ...       ...     ...  \n",
            "47937                   0.0   142.487     0.0  \n",
            "47938                   0.0   142.198     0.0  \n",
            "47939                   0.0  1006.751     0.0  \n",
            "47940                   0.0    63.623     0.0  \n",
            "47941                   0.0   211.427     0.0  \n",
            "\n",
            "[47942 rows x 11 columns], 'Services': None, 'PublicTransportStops': None, 'ServiceTypes': None, 'RecreationalAreas': None, 'Blocks':                                                geometry    id\n",
            "0     POLYGON ((inf inf, inf inf, inf inf, inf inf, ...     0\n",
            "1     POLYGON ((inf inf, inf inf, inf inf, inf inf, ...     0\n",
            "2     POLYGON ((inf inf, inf inf, inf inf, inf inf, ...     7\n",
            "3     POLYGON ((inf inf, inf inf, inf inf, inf inf, ...    11\n",
            "4     POLYGON ((inf inf, inf inf, inf inf, inf inf, ...    12\n",
            "...                                                 ...   ...\n",
            "2007  POLYGON ((inf inf, inf inf, inf inf, inf inf, ...  2454\n",
            "2008  POLYGON ((inf inf, inf inf, inf inf, inf inf, ...  2455\n",
            "2009  POLYGON ((inf inf, inf inf, inf inf, inf inf, ...  2456\n",
            "2010  POLYGON ((inf inf, inf inf, inf inf, inf inf, ...  2457\n",
            "2011  POLYGON ((inf inf, inf inf, inf inf, inf inf, ...  2459\n",
            "\n",
            "[2012 rows x 2 columns], 'Municipalities': None, 'AdministrativeUnits': None, 'ValueTypes': None, 'SocialGroups': None, 'SocialGroupsValueTypesLivingSituations': None, 'LivingSituationsCityServiceTypes': None, 'LivingSituations': None, 'methods': <CityGeoTools.metrics.data.DataValidation.DataValidation object at 0x7a7fbefc9a50>}\n"
          ]
        }
      ]
    }
  ]
}